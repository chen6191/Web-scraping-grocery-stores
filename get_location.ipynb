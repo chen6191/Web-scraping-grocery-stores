{
 "cells": [
  {
   "cell_type": "code",
   "execution_count": 26,
   "metadata": {},
   "outputs": [],
   "source": [
    "import requests  # used to get url\n",
    "import json  # used to read json files on the webpage\n",
    "import pandas as pd  # used to integrate data"
   ]
  },
  {
   "cell_type": "code",
   "execution_count": 27,
   "metadata": {},
   "outputs": [],
   "source": [
    "# There are 84 pages on the WIC website\n",
    "page_count = 84\n",
    "\n",
    "# Begin with page 1\n",
    "page_number = 1\n",
    "\n",
    "# start_url begins with page 1 as well\n",
    "start_url = 'https://wicgrocerystores.web.health.state.mn.us/search?criteria=&size=10&page=' + str(page_number)"
   ]
  },
  {
   "cell_type": "code",
   "execution_count": 28,
   "metadata": {},
   "outputs": [
    {
     "name": "stdout",
     "output_type": "stream",
     "text": [
      "{'totalElements': 834, 'data': [{'id': '8245', 'name': '1st Quality Market', 'address': {'street': '2655 Nicollet Ave', 'city': 'MINNEAPOLIS', 'zipCode': 55408, 'county': 'HENNEPIN'}}, {'id': '1548', 'name': '52 MARKET  AND TRADING', 'address': {'street': '990 ARCADE ST', 'city': 'SAINT PAUL', 'zipCode': 55106, 'county': 'RAMSEY'}}, {'id': '8782', 'name': '75 Market and Deli', 'address': {'street': '1187 Minnehaha Ave E ', 'city': 'SAINT PAUL', 'zipCode': 55106, 'county': 'RAMSEY'}}, {'id': '8685', 'name': '7th Grocery', 'address': {'street': '43 7th St W', 'city': 'SAINT PAUL', 'zipCode': 55102, 'county': 'RAMSEY'}}, {'id': '8875', 'name': 'A A Market', 'address': {'street': '191 Western Ave N', 'city': 'SAINT PAUL', 'zipCode': 55102, 'county': 'RAMSEY'}}, {'id': '8552', 'name': 'Aaran Halal Market', 'address': {'street': '8904 Old Cedar Ave S', 'city': 'BLOOMINGTON', 'zipCode': 55425, 'county': 'HENNEPIN'}}, {'id': '8379', 'name': 'Africa International Market', 'address': {'street': '7617 Welcome Ave N', 'city': 'BROOKLYN PARK', 'zipCode': 55443, 'county': 'HENNEPIN'}}, {'id': '8783', 'name': 'African Halal & Deli', 'address': {'street': '405 E Lake St ', 'city': 'MINNEAPOLIS', 'zipCode': 55408, 'county': 'HENNEPIN'}}, {'id': '8624', 'name': 'African Plaza', 'address': {'street': '555 Snelling Ave N ', 'city': 'SAINT PAUL', 'zipCode': 55104, 'county': 'RAMSEY'}}, {'id': '341', 'name': 'AFRIK GROCERY', 'address': {'street': '613 CEDAR AVE S', 'city': 'MINNEAPOLIS', 'zipCode': 55454, 'county': 'HENNEPIN'}}]}\n"
     ]
    }
   ],
   "source": [
    "# Get response from start_url\n",
    "resp = requests.get(start_url)\n",
    "\n",
    "# Load the json file in start_url (only page 1 is there)\n",
    "data = json.loads(resp.text)\n",
    "print(data)"
   ]
  },
  {
   "cell_type": "code",
   "execution_count": 29,
   "metadata": {},
   "outputs": [
    {
     "data": {
      "text/html": [
       "<div>\n",
       "<style scoped>\n",
       "    .dataframe tbody tr th:only-of-type {\n",
       "        vertical-align: middle;\n",
       "    }\n",
       "\n",
       "    .dataframe tbody tr th {\n",
       "        vertical-align: top;\n",
       "    }\n",
       "\n",
       "    .dataframe thead th {\n",
       "        text-align: right;\n",
       "    }\n",
       "</style>\n",
       "<table border=\"1\" class=\"dataframe\">\n",
       "  <thead>\n",
       "    <tr style=\"text-align: right;\">\n",
       "      <th></th>\n",
       "      <th>id</th>\n",
       "      <th>name</th>\n",
       "      <th>address.street</th>\n",
       "      <th>address.city</th>\n",
       "      <th>address.zipCode</th>\n",
       "      <th>address.county</th>\n",
       "    </tr>\n",
       "  </thead>\n",
       "  <tbody>\n",
       "    <tr>\n",
       "      <td>0</td>\n",
       "      <td>8245</td>\n",
       "      <td>1st Quality Market</td>\n",
       "      <td>2655 Nicollet Ave</td>\n",
       "      <td>MINNEAPOLIS</td>\n",
       "      <td>55408</td>\n",
       "      <td>HENNEPIN</td>\n",
       "    </tr>\n",
       "    <tr>\n",
       "      <td>1</td>\n",
       "      <td>1548</td>\n",
       "      <td>52 MARKET  AND TRADING</td>\n",
       "      <td>990 ARCADE ST</td>\n",
       "      <td>SAINT PAUL</td>\n",
       "      <td>55106</td>\n",
       "      <td>RAMSEY</td>\n",
       "    </tr>\n",
       "    <tr>\n",
       "      <td>2</td>\n",
       "      <td>8782</td>\n",
       "      <td>75 Market and Deli</td>\n",
       "      <td>1187 Minnehaha Ave E</td>\n",
       "      <td>SAINT PAUL</td>\n",
       "      <td>55106</td>\n",
       "      <td>RAMSEY</td>\n",
       "    </tr>\n",
       "    <tr>\n",
       "      <td>3</td>\n",
       "      <td>8685</td>\n",
       "      <td>7th Grocery</td>\n",
       "      <td>43 7th St W</td>\n",
       "      <td>SAINT PAUL</td>\n",
       "      <td>55102</td>\n",
       "      <td>RAMSEY</td>\n",
       "    </tr>\n",
       "    <tr>\n",
       "      <td>4</td>\n",
       "      <td>8875</td>\n",
       "      <td>A A Market</td>\n",
       "      <td>191 Western Ave N</td>\n",
       "      <td>SAINT PAUL</td>\n",
       "      <td>55102</td>\n",
       "      <td>RAMSEY</td>\n",
       "    </tr>\n",
       "    <tr>\n",
       "      <td>5</td>\n",
       "      <td>8552</td>\n",
       "      <td>Aaran Halal Market</td>\n",
       "      <td>8904 Old Cedar Ave S</td>\n",
       "      <td>BLOOMINGTON</td>\n",
       "      <td>55425</td>\n",
       "      <td>HENNEPIN</td>\n",
       "    </tr>\n",
       "    <tr>\n",
       "      <td>6</td>\n",
       "      <td>8379</td>\n",
       "      <td>Africa International Market</td>\n",
       "      <td>7617 Welcome Ave N</td>\n",
       "      <td>BROOKLYN PARK</td>\n",
       "      <td>55443</td>\n",
       "      <td>HENNEPIN</td>\n",
       "    </tr>\n",
       "    <tr>\n",
       "      <td>7</td>\n",
       "      <td>8783</td>\n",
       "      <td>African Halal &amp; Deli</td>\n",
       "      <td>405 E Lake St</td>\n",
       "      <td>MINNEAPOLIS</td>\n",
       "      <td>55408</td>\n",
       "      <td>HENNEPIN</td>\n",
       "    </tr>\n",
       "    <tr>\n",
       "      <td>8</td>\n",
       "      <td>8624</td>\n",
       "      <td>African Plaza</td>\n",
       "      <td>555 Snelling Ave N</td>\n",
       "      <td>SAINT PAUL</td>\n",
       "      <td>55104</td>\n",
       "      <td>RAMSEY</td>\n",
       "    </tr>\n",
       "    <tr>\n",
       "      <td>9</td>\n",
       "      <td>341</td>\n",
       "      <td>AFRIK GROCERY</td>\n",
       "      <td>613 CEDAR AVE S</td>\n",
       "      <td>MINNEAPOLIS</td>\n",
       "      <td>55454</td>\n",
       "      <td>HENNEPIN</td>\n",
       "    </tr>\n",
       "  </tbody>\n",
       "</table>\n",
       "</div>"
      ],
      "text/plain": [
       "     id                         name         address.street   address.city  \\\n",
       "0  8245           1st Quality Market      2655 Nicollet Ave    MINNEAPOLIS   \n",
       "1  1548       52 MARKET  AND TRADING          990 ARCADE ST     SAINT PAUL   \n",
       "2  8782           75 Market and Deli  1187 Minnehaha Ave E      SAINT PAUL   \n",
       "3  8685                  7th Grocery            43 7th St W     SAINT PAUL   \n",
       "4  8875                   A A Market      191 Western Ave N     SAINT PAUL   \n",
       "5  8552           Aaran Halal Market   8904 Old Cedar Ave S    BLOOMINGTON   \n",
       "6  8379  Africa International Market     7617 Welcome Ave N  BROOKLYN PARK   \n",
       "7  8783         African Halal & Deli         405 E Lake St     MINNEAPOLIS   \n",
       "8  8624                African Plaza    555 Snelling Ave N      SAINT PAUL   \n",
       "9   341                AFRIK GROCERY        613 CEDAR AVE S    MINNEAPOLIS   \n",
       "\n",
       "   address.zipCode address.county  \n",
       "0            55408       HENNEPIN  \n",
       "1            55106         RAMSEY  \n",
       "2            55106         RAMSEY  \n",
       "3            55102         RAMSEY  \n",
       "4            55102         RAMSEY  \n",
       "5            55425       HENNEPIN  \n",
       "6            55443       HENNEPIN  \n",
       "7            55408       HENNEPIN  \n",
       "8            55104         RAMSEY  \n",
       "9            55454       HENNEPIN  "
      ]
     },
     "execution_count": 29,
     "metadata": {},
     "output_type": "execute_result"
    }
   ],
   "source": [
    "# Normalize the json file into the pandas data frame called \"df\".\n",
    "df = pd.io.json.json_normalize(data['data'])\n",
    "df"
   ]
  },
  {
   "cell_type": "code",
   "execution_count": 30,
   "metadata": {},
   "outputs": [],
   "source": [
    "# Store 840 grocery stores into a pandas data frame called \"df2\".\n",
    "df2 = pd.DataFrame()\n",
    "\n",
    "# Here I create a for loop to get through all pages\n",
    "for page_number in range(page_count):  \n",
    "    page_number = page_number + 1\n",
    "    start_url = 'https://wicgrocerystores.web.health.state.mn.us/search?criteria=&size=10&page=' + str(page_number)\n",
    "    resp_next = requests.get(start_url)\n",
    "    data = json.loads(resp_next.text)\n",
    "    df = pd.io.json.json_normalize(data['data'])\n",
    "    df2 = df2.append(df)"
   ]
  },
  {
   "cell_type": "code",
   "execution_count": 31,
   "metadata": {},
   "outputs": [
    {
     "name": "stdout",
     "output_type": "stream",
     "text": [
      "84\n",
      "https://wicgrocerystores.web.health.state.mn.us/search?criteria=&size=10&page=84\n"
     ]
    }
   ],
   "source": [
    "# Check if the loop runs to the end\n",
    "print(page_number)\n",
    "print(start_url)"
   ]
  },
  {
   "cell_type": "code",
   "execution_count": 32,
   "metadata": {},
   "outputs": [
    {
     "data": {
      "text/plain": [
       "834"
      ]
     },
     "execution_count": 32,
     "metadata": {},
     "output_type": "execute_result"
    }
   ],
   "source": [
    "# Get the total number of store records\n",
    "len(df2)"
   ]
  },
  {
   "cell_type": "code",
   "execution_count": 33,
   "metadata": {},
   "outputs": [
    {
     "data": {
      "text/plain": [
       "834"
      ]
     },
     "execution_count": 33,
     "metadata": {},
     "output_type": "execute_result"
    }
   ],
   "source": [
    "# Get the total number of store records\n",
    "len(df2)"
   ]
  },
  {
   "cell_type": "code",
   "execution_count": 34,
   "metadata": {},
   "outputs": [],
   "source": [
    "import googlemaps\n",
    "\n",
    "# Replace \"MY_API_KEY\" with your API key\n",
    "my_api_key = \"MY_API_KEY\"  "
   ]
  },
  {
   "cell_type": "code",
   "execution_count": 35,
   "metadata": {},
   "outputs": [],
   "source": [
    "# Get my Google Maps Platform API key\n",
    "gmaps_key = googlemaps.Client(key = my_api_key) "
   ]
  },
  {
   "cell_type": "code",
   "execution_count": 36,
   "metadata": {},
   "outputs": [],
   "source": [
    "# A Text Search request is an HTTP URL of the following form:\n",
    "gmaps_text_url = \"https://maps.googleapis.com/maps/api/place/textsearch/json?\""
   ]
  },
  {
   "cell_type": "code",
   "execution_count": 37,
   "metadata": {},
   "outputs": [],
   "source": [
    "df_loc = df2.reset_index(drop=True) "
   ]
  },
  {
   "cell_type": "code",
   "execution_count": 38,
   "metadata": {},
   "outputs": [],
   "source": [
    "record_count = len(df_loc)"
   ]
  },
  {
   "cell_type": "code",
   "execution_count": 39,
   "metadata": {},
   "outputs": [],
   "source": [
    "for index in range(record_count):\n",
    "    if '#' in df_loc.at[index,'name'] != None:\n",
    "        df_loc.loc[index,'name'] = df_loc.at[index,'name'].split('#')[0]"
   ]
  },
  {
   "cell_type": "code",
   "execution_count": 44,
   "metadata": {},
   "outputs": [],
   "source": [
    "lat = []\n",
    "long = []"
   ]
  },
  {
   "cell_type": "code",
   "execution_count": 45,
   "metadata": {},
   "outputs": [],
   "source": [
    "for index in range(record_count): # which is supposed to be record_count !!!! \n",
    "    query = df_loc.at[index,'address.street'] + ', ' + df_loc.at[index,'address.city']+ ', ' + str(df_loc.at[index,'address.zipCode'])+ ', ' + df_loc.at[index,'name']\n",
    "    gmaps_search_url = gmaps_text_url + 'query=' + query + '&key=' + my_api_key\n",
    "    gmaps_search_resp = requests.get(gmaps_search_url)\n",
    "    gmaps_place_data = gmaps_search_resp.json()\n",
    "    \n",
    "    if gmaps_place_data['status'] == 'ZERO_RESULTS':\n",
    "        lat.append('NaN')\n",
    "        long.append('NaN')\n",
    "    else: \n",
    "        try:\n",
    "            lat.append(gmaps_place_data['results'][0]['geometry']['location']['lat'])    \n",
    "            long.append(gmaps_place_data['results'][0]['geometry']['location']['lng'])\n",
    "        except:\n",
    "            lat.append('NaN')\n",
    "            long.append('NaN')"
   ]
  },
  {
   "cell_type": "code",
   "execution_count": 47,
   "metadata": {},
   "outputs": [
    {
     "name": "stdout",
     "output_type": "stream",
     "text": [
      "834\n",
      "834\n"
     ]
    }
   ],
   "source": [
    "print(len(lat))\n",
    "print(len(long))"
   ]
  },
  {
   "cell_type": "code",
   "execution_count": 48,
   "metadata": {},
   "outputs": [],
   "source": [
    "new_cols = ['lat', 'long']"
   ]
  },
  {
   "cell_type": "code",
   "execution_count": 49,
   "metadata": {},
   "outputs": [],
   "source": [
    "coordinates = {'lat': lat, 'long': long}\n",
    "df_coor = pd.DataFrame(coordinates, columns=new_cols)"
   ]
  },
  {
   "cell_type": "code",
   "execution_count": 50,
   "metadata": {},
   "outputs": [],
   "source": [
    "df9 = pd.concat([df_loc, df_coor], axis=1)"
   ]
  },
  {
   "cell_type": "code",
   "execution_count": 51,
   "metadata": {},
   "outputs": [],
   "source": [
    "df9.to_csv(\"locations.csv\")"
   ]
  },
  {
   "cell_type": "code",
   "execution_count": null,
   "metadata": {},
   "outputs": [],
   "source": []
  }
 ],
 "metadata": {
  "kernelspec": {
   "display_name": "Python 3",
   "language": "python",
   "name": "python3"
  },
  "language_info": {
   "codemirror_mode": {
    "name": "ipython",
    "version": 3
   },
   "file_extension": ".py",
   "mimetype": "text/x-python",
   "name": "python",
   "nbconvert_exporter": "python",
   "pygments_lexer": "ipython3",
   "version": "3.7.4"
  }
 },
 "nbformat": 4,
 "nbformat_minor": 2
}
