{
 "cells": [
  {
   "cell_type": "markdown",
   "metadata": {},
   "source": [
    "# Python Web Scraper For WIC Grocery Stores"
   ]
  },
  {
   "cell_type": "markdown",
   "metadata": {},
   "source": [
    "## Part 1:Scraping store names and adresses from WIC Grocery Stores website"
   ]
  },
  {
   "cell_type": "code",
   "execution_count": 1,
   "metadata": {},
   "outputs": [],
   "source": [
    "import requests  # used to get url\n",
    "import json  # used to read json files on the webpage\n",
    "import pandas as pd  # used to integrate data"
   ]
  },
  {
   "cell_type": "markdown",
   "metadata": {},
   "source": [
    "The starting url was the request url when you turn the page. It could be retrived from Developer Tools -> Network -> Headers only after turning the page. \n",
    "\n",
    "The data on this website are 85 pages of JSON files. Each page has 10 stores and their addresses. The total number of pages may be updated. Please update the variable 'page_count' to reflect the current total number of pages."
   ]
  },
  {
   "cell_type": "code",
   "execution_count": 2,
   "metadata": {},
   "outputs": [],
   "source": [
    "# There are 84 pages on the WIC website\n",
    "page_count = 84\n",
    "\n",
    "# Begin with page 1\n",
    "page_number = 1\n",
    "\n",
    "# start_url begins with page 1 as well\n",
    "start_url = 'https://wicgrocerystores.web.health.state.mn.us/search?criteria=&size=10&page=' + str(page_number)"
   ]
  },
  {
   "cell_type": "code",
   "execution_count": 3,
   "metadata": {},
   "outputs": [
    {
     "name": "stdout",
     "output_type": "stream",
     "text": [
      "{'totalElements': 834, 'data': [{'id': '8245', 'name': '1st Quality Market', 'address': {'street': '2655 Nicollet Ave', 'city': 'MINNEAPOLIS', 'zipCode': 55408, 'county': 'HENNEPIN'}}, {'id': '1548', 'name': '52 MARKET  AND TRADING', 'address': {'street': '990 ARCADE ST', 'city': 'SAINT PAUL', 'zipCode': 55106, 'county': 'RAMSEY'}}, {'id': '8782', 'name': '75 Market and Deli', 'address': {'street': '1187 Minnehaha Ave E ', 'city': 'SAINT PAUL', 'zipCode': 55106, 'county': 'RAMSEY'}}, {'id': '8685', 'name': '7th Grocery', 'address': {'street': '43 7th St W', 'city': 'SAINT PAUL', 'zipCode': 55102, 'county': 'RAMSEY'}}, {'id': '8875', 'name': 'A A Market', 'address': {'street': '191 Western Ave N', 'city': 'SAINT PAUL', 'zipCode': 55102, 'county': 'RAMSEY'}}, {'id': '8552', 'name': 'Aaran Halal Market', 'address': {'street': '8904 Old Cedar Ave S', 'city': 'BLOOMINGTON', 'zipCode': 55425, 'county': 'HENNEPIN'}}, {'id': '8379', 'name': 'Africa International Market', 'address': {'street': '7617 Welcome Ave N', 'city': 'BROOKLYN PARK', 'zipCode': 55443, 'county': 'HENNEPIN'}}, {'id': '8783', 'name': 'African Halal & Deli', 'address': {'street': '405 E Lake St ', 'city': 'MINNEAPOLIS', 'zipCode': 55408, 'county': 'HENNEPIN'}}, {'id': '8624', 'name': 'African Plaza', 'address': {'street': '555 Snelling Ave N ', 'city': 'SAINT PAUL', 'zipCode': 55104, 'county': 'RAMSEY'}}, {'id': '341', 'name': 'AFRIK GROCERY', 'address': {'street': '613 CEDAR AVE S', 'city': 'MINNEAPOLIS', 'zipCode': 55454, 'county': 'HENNEPIN'}}]}\n"
     ]
    }
   ],
   "source": [
    "# Get response from start_url\n",
    "resp = requests.get(start_url)\n",
    "\n",
    "# Load the json file in start_url (only page 1 is there)\n",
    "data = json.loads(resp.text)\n",
    "print(data)"
   ]
  },
  {
   "cell_type": "code",
   "execution_count": 4,
   "metadata": {},
   "outputs": [
    {
     "data": {
      "text/html": [
       "<div>\n",
       "<style scoped>\n",
       "    .dataframe tbody tr th:only-of-type {\n",
       "        vertical-align: middle;\n",
       "    }\n",
       "\n",
       "    .dataframe tbody tr th {\n",
       "        vertical-align: top;\n",
       "    }\n",
       "\n",
       "    .dataframe thead th {\n",
       "        text-align: right;\n",
       "    }\n",
       "</style>\n",
       "<table border=\"1\" class=\"dataframe\">\n",
       "  <thead>\n",
       "    <tr style=\"text-align: right;\">\n",
       "      <th></th>\n",
       "      <th>id</th>\n",
       "      <th>name</th>\n",
       "      <th>address.street</th>\n",
       "      <th>address.city</th>\n",
       "      <th>address.zipCode</th>\n",
       "      <th>address.county</th>\n",
       "    </tr>\n",
       "  </thead>\n",
       "  <tbody>\n",
       "    <tr>\n",
       "      <td>0</td>\n",
       "      <td>8245</td>\n",
       "      <td>1st Quality Market</td>\n",
       "      <td>2655 Nicollet Ave</td>\n",
       "      <td>MINNEAPOLIS</td>\n",
       "      <td>55408</td>\n",
       "      <td>HENNEPIN</td>\n",
       "    </tr>\n",
       "    <tr>\n",
       "      <td>1</td>\n",
       "      <td>1548</td>\n",
       "      <td>52 MARKET  AND TRADING</td>\n",
       "      <td>990 ARCADE ST</td>\n",
       "      <td>SAINT PAUL</td>\n",
       "      <td>55106</td>\n",
       "      <td>RAMSEY</td>\n",
       "    </tr>\n",
       "    <tr>\n",
       "      <td>2</td>\n",
       "      <td>8782</td>\n",
       "      <td>75 Market and Deli</td>\n",
       "      <td>1187 Minnehaha Ave E</td>\n",
       "      <td>SAINT PAUL</td>\n",
       "      <td>55106</td>\n",
       "      <td>RAMSEY</td>\n",
       "    </tr>\n",
       "    <tr>\n",
       "      <td>3</td>\n",
       "      <td>8685</td>\n",
       "      <td>7th Grocery</td>\n",
       "      <td>43 7th St W</td>\n",
       "      <td>SAINT PAUL</td>\n",
       "      <td>55102</td>\n",
       "      <td>RAMSEY</td>\n",
       "    </tr>\n",
       "    <tr>\n",
       "      <td>4</td>\n",
       "      <td>8875</td>\n",
       "      <td>A A Market</td>\n",
       "      <td>191 Western Ave N</td>\n",
       "      <td>SAINT PAUL</td>\n",
       "      <td>55102</td>\n",
       "      <td>RAMSEY</td>\n",
       "    </tr>\n",
       "    <tr>\n",
       "      <td>5</td>\n",
       "      <td>8552</td>\n",
       "      <td>Aaran Halal Market</td>\n",
       "      <td>8904 Old Cedar Ave S</td>\n",
       "      <td>BLOOMINGTON</td>\n",
       "      <td>55425</td>\n",
       "      <td>HENNEPIN</td>\n",
       "    </tr>\n",
       "    <tr>\n",
       "      <td>6</td>\n",
       "      <td>8379</td>\n",
       "      <td>Africa International Market</td>\n",
       "      <td>7617 Welcome Ave N</td>\n",
       "      <td>BROOKLYN PARK</td>\n",
       "      <td>55443</td>\n",
       "      <td>HENNEPIN</td>\n",
       "    </tr>\n",
       "    <tr>\n",
       "      <td>7</td>\n",
       "      <td>8783</td>\n",
       "      <td>African Halal &amp; Deli</td>\n",
       "      <td>405 E Lake St</td>\n",
       "      <td>MINNEAPOLIS</td>\n",
       "      <td>55408</td>\n",
       "      <td>HENNEPIN</td>\n",
       "    </tr>\n",
       "    <tr>\n",
       "      <td>8</td>\n",
       "      <td>8624</td>\n",
       "      <td>African Plaza</td>\n",
       "      <td>555 Snelling Ave N</td>\n",
       "      <td>SAINT PAUL</td>\n",
       "      <td>55104</td>\n",
       "      <td>RAMSEY</td>\n",
       "    </tr>\n",
       "    <tr>\n",
       "      <td>9</td>\n",
       "      <td>341</td>\n",
       "      <td>AFRIK GROCERY</td>\n",
       "      <td>613 CEDAR AVE S</td>\n",
       "      <td>MINNEAPOLIS</td>\n",
       "      <td>55454</td>\n",
       "      <td>HENNEPIN</td>\n",
       "    </tr>\n",
       "  </tbody>\n",
       "</table>\n",
       "</div>"
      ],
      "text/plain": [
       "     id                         name         address.street   address.city  \\\n",
       "0  8245           1st Quality Market      2655 Nicollet Ave    MINNEAPOLIS   \n",
       "1  1548       52 MARKET  AND TRADING          990 ARCADE ST     SAINT PAUL   \n",
       "2  8782           75 Market and Deli  1187 Minnehaha Ave E      SAINT PAUL   \n",
       "3  8685                  7th Grocery            43 7th St W     SAINT PAUL   \n",
       "4  8875                   A A Market      191 Western Ave N     SAINT PAUL   \n",
       "5  8552           Aaran Halal Market   8904 Old Cedar Ave S    BLOOMINGTON   \n",
       "6  8379  Africa International Market     7617 Welcome Ave N  BROOKLYN PARK   \n",
       "7  8783         African Halal & Deli         405 E Lake St     MINNEAPOLIS   \n",
       "8  8624                African Plaza    555 Snelling Ave N      SAINT PAUL   \n",
       "9   341                AFRIK GROCERY        613 CEDAR AVE S    MINNEAPOLIS   \n",
       "\n",
       "   address.zipCode address.county  \n",
       "0            55408       HENNEPIN  \n",
       "1            55106         RAMSEY  \n",
       "2            55106         RAMSEY  \n",
       "3            55102         RAMSEY  \n",
       "4            55102         RAMSEY  \n",
       "5            55425       HENNEPIN  \n",
       "6            55443       HENNEPIN  \n",
       "7            55408       HENNEPIN  \n",
       "8            55104         RAMSEY  \n",
       "9            55454       HENNEPIN  "
      ]
     },
     "execution_count": 4,
     "metadata": {},
     "output_type": "execute_result"
    }
   ],
   "source": [
    "# Normalize the json file into the pandas data frame called \"df\".\n",
    "df = pd.io.json.json_normalize(data['data'])\n",
    "df"
   ]
  },
  {
   "cell_type": "markdown",
   "metadata": {},
   "source": [
    "Note that \"df\" only have the information of the first 10 stores. Now We still have to load all 840 stores. "
   ]
  },
  {
   "cell_type": "code",
   "execution_count": 5,
   "metadata": {},
   "outputs": [],
   "source": [
    "# Store 840 grocery stores into a pandas data frame called \"df2\".\n",
    "df2 = pd.DataFrame()\n",
    "\n",
    "# Here I create a for loop to get through all pages\n",
    "for page_number in range(page_count):  \n",
    "    page_number = page_number + 1\n",
    "    start_url = 'https://wicgrocerystores.web.health.state.mn.us/search?criteria=&size=10&page=' + str(page_number)\n",
    "    resp_next = requests.get(start_url)\n",
    "    data = json.loads(resp_next.text)\n",
    "    df = pd.io.json.json_normalize(data['data'])\n",
    "    df2 = df2.append(df)"
   ]
  },
  {
   "cell_type": "code",
   "execution_count": 6,
   "metadata": {},
   "outputs": [
    {
     "name": "stdout",
     "output_type": "stream",
     "text": [
      "84\n",
      "https://wicgrocerystores.web.health.state.mn.us/search?criteria=&size=10&page=84\n"
     ]
    }
   ],
   "source": [
    "# Check if the loop runs to the end\n",
    "print(page_number)\n",
    "print(start_url)"
   ]
  },
  {
   "cell_type": "code",
   "execution_count": 7,
   "metadata": {},
   "outputs": [
    {
     "data": {
      "text/plain": [
       "834"
      ]
     },
     "execution_count": 7,
     "metadata": {},
     "output_type": "execute_result"
    }
   ],
   "source": [
    "# Get the total number of store records\n",
    "len(df2)"
   ]
  },
  {
   "cell_type": "code",
   "execution_count": 8,
   "metadata": {},
   "outputs": [
    {
     "data": {
      "text/html": [
       "<div>\n",
       "<style scoped>\n",
       "    .dataframe tbody tr th:only-of-type {\n",
       "        vertical-align: middle;\n",
       "    }\n",
       "\n",
       "    .dataframe tbody tr th {\n",
       "        vertical-align: top;\n",
       "    }\n",
       "\n",
       "    .dataframe thead th {\n",
       "        text-align: right;\n",
       "    }\n",
       "</style>\n",
       "<table border=\"1\" class=\"dataframe\">\n",
       "  <thead>\n",
       "    <tr style=\"text-align: right;\">\n",
       "      <th></th>\n",
       "      <th>id</th>\n",
       "      <th>name</th>\n",
       "      <th>address.street</th>\n",
       "      <th>address.city</th>\n",
       "      <th>address.zipCode</th>\n",
       "      <th>address.county</th>\n",
       "    </tr>\n",
       "  </thead>\n",
       "  <tbody>\n",
       "    <tr>\n",
       "      <td>0</td>\n",
       "      <td>8245</td>\n",
       "      <td>1st Quality Market</td>\n",
       "      <td>2655 Nicollet Ave</td>\n",
       "      <td>MINNEAPOLIS</td>\n",
       "      <td>55408</td>\n",
       "      <td>HENNEPIN</td>\n",
       "    </tr>\n",
       "    <tr>\n",
       "      <td>1</td>\n",
       "      <td>1548</td>\n",
       "      <td>52 MARKET  AND TRADING</td>\n",
       "      <td>990 ARCADE ST</td>\n",
       "      <td>SAINT PAUL</td>\n",
       "      <td>55106</td>\n",
       "      <td>RAMSEY</td>\n",
       "    </tr>\n",
       "    <tr>\n",
       "      <td>2</td>\n",
       "      <td>8782</td>\n",
       "      <td>75 Market and Deli</td>\n",
       "      <td>1187 Minnehaha Ave E</td>\n",
       "      <td>SAINT PAUL</td>\n",
       "      <td>55106</td>\n",
       "      <td>RAMSEY</td>\n",
       "    </tr>\n",
       "    <tr>\n",
       "      <td>3</td>\n",
       "      <td>8685</td>\n",
       "      <td>7th Grocery</td>\n",
       "      <td>43 7th St W</td>\n",
       "      <td>SAINT PAUL</td>\n",
       "      <td>55102</td>\n",
       "      <td>RAMSEY</td>\n",
       "    </tr>\n",
       "    <tr>\n",
       "      <td>4</td>\n",
       "      <td>8875</td>\n",
       "      <td>A A Market</td>\n",
       "      <td>191 Western Ave N</td>\n",
       "      <td>SAINT PAUL</td>\n",
       "      <td>55102</td>\n",
       "      <td>RAMSEY</td>\n",
       "    </tr>\n",
       "    <tr>\n",
       "      <td>5</td>\n",
       "      <td>8552</td>\n",
       "      <td>Aaran Halal Market</td>\n",
       "      <td>8904 Old Cedar Ave S</td>\n",
       "      <td>BLOOMINGTON</td>\n",
       "      <td>55425</td>\n",
       "      <td>HENNEPIN</td>\n",
       "    </tr>\n",
       "    <tr>\n",
       "      <td>6</td>\n",
       "      <td>8379</td>\n",
       "      <td>Africa International Market</td>\n",
       "      <td>7617 Welcome Ave N</td>\n",
       "      <td>BROOKLYN PARK</td>\n",
       "      <td>55443</td>\n",
       "      <td>HENNEPIN</td>\n",
       "    </tr>\n",
       "    <tr>\n",
       "      <td>7</td>\n",
       "      <td>8783</td>\n",
       "      <td>African Halal &amp; Deli</td>\n",
       "      <td>405 E Lake St</td>\n",
       "      <td>MINNEAPOLIS</td>\n",
       "      <td>55408</td>\n",
       "      <td>HENNEPIN</td>\n",
       "    </tr>\n",
       "    <tr>\n",
       "      <td>8</td>\n",
       "      <td>8624</td>\n",
       "      <td>African Plaza</td>\n",
       "      <td>555 Snelling Ave N</td>\n",
       "      <td>SAINT PAUL</td>\n",
       "      <td>55104</td>\n",
       "      <td>RAMSEY</td>\n",
       "    </tr>\n",
       "    <tr>\n",
       "      <td>9</td>\n",
       "      <td>341</td>\n",
       "      <td>AFRIK GROCERY</td>\n",
       "      <td>613 CEDAR AVE S</td>\n",
       "      <td>MINNEAPOLIS</td>\n",
       "      <td>55454</td>\n",
       "      <td>HENNEPIN</td>\n",
       "    </tr>\n",
       "    <tr>\n",
       "      <td>0</td>\n",
       "      <td>7902</td>\n",
       "      <td>AIN-U-SHAMS</td>\n",
       "      <td>131 Litchfield Ave SW, Suite 101</td>\n",
       "      <td>WILLMAR</td>\n",
       "      <td>56201</td>\n",
       "      <td>KANDIYOHI</td>\n",
       "    </tr>\n",
       "    <tr>\n",
       "      <td>1</td>\n",
       "      <td>8672</td>\n",
       "      <td>Ainushams Halal Foods</td>\n",
       "      <td>123 W Lake St</td>\n",
       "      <td>MINNEAPOLIS</td>\n",
       "      <td>55408</td>\n",
       "      <td>HENNEPIN</td>\n",
       "    </tr>\n",
       "    <tr>\n",
       "      <td>2</td>\n",
       "      <td>8618</td>\n",
       "      <td>Alif Halal Market</td>\n",
       "      <td>1501 Riverwood Dr, Suite 180</td>\n",
       "      <td>BURNSVILLE</td>\n",
       "      <td>55337</td>\n",
       "      <td>DAKOTA</td>\n",
       "    </tr>\n",
       "    <tr>\n",
       "      <td>3</td>\n",
       "      <td>5336</td>\n",
       "      <td>AL &amp; LAURA'S FOODS</td>\n",
       "      <td>309 N Mill St</td>\n",
       "      <td>FERTILE</td>\n",
       "      <td>56540</td>\n",
       "      <td>POLK</td>\n",
       "    </tr>\n",
       "    <tr>\n",
       "      <td>4</td>\n",
       "      <td>8390</td>\n",
       "      <td>Almadina Grocery Market</td>\n",
       "      <td>1001 E Franklin Ave</td>\n",
       "      <td>MINNEAPOLIS</td>\n",
       "      <td>55404</td>\n",
       "      <td>HENNEPIN</td>\n",
       "    </tr>\n",
       "    <tr>\n",
       "      <td>5</td>\n",
       "      <td>8971</td>\n",
       "      <td>Almich's Market</td>\n",
       "      <td>2525 20th Street</td>\n",
       "      <td>SLAYTON</td>\n",
       "      <td>56172</td>\n",
       "      <td>MURRAY</td>\n",
       "    </tr>\n",
       "    <tr>\n",
       "      <td>6</td>\n",
       "      <td>8755</td>\n",
       "      <td>Almich's Market</td>\n",
       "      <td>34 E Center Ave</td>\n",
       "      <td>CLARA CITY</td>\n",
       "      <td>56222</td>\n",
       "      <td>CHIPPEWA</td>\n",
       "    </tr>\n",
       "    <tr>\n",
       "      <td>7</td>\n",
       "      <td>1212</td>\n",
       "      <td>ALMICH'S MARKET</td>\n",
       "      <td>1340 9TH ST</td>\n",
       "      <td>GRANITE FALLS</td>\n",
       "      <td>56241</td>\n",
       "      <td>YELLOW MEDICINE</td>\n",
       "    </tr>\n",
       "    <tr>\n",
       "      <td>8</td>\n",
       "      <td>297</td>\n",
       "      <td>Almsted's Fresh Market</td>\n",
       "      <td>4200 Douglas Dr</td>\n",
       "      <td>CRYSTAL</td>\n",
       "      <td>55422</td>\n",
       "      <td>HENNEPIN</td>\n",
       "    </tr>\n",
       "    <tr>\n",
       "      <td>9</td>\n",
       "      <td>8788</td>\n",
       "      <td>A.M. Food &amp; Tobacco</td>\n",
       "      <td>1814 Nicollet Ave S</td>\n",
       "      <td>MINNEAPOLIS</td>\n",
       "      <td>55403</td>\n",
       "      <td>HENNEPIN</td>\n",
       "    </tr>\n",
       "  </tbody>\n",
       "</table>\n",
       "</div>"
      ],
      "text/plain": [
       "     id                         name                    address.street  \\\n",
       "0  8245           1st Quality Market                 2655 Nicollet Ave   \n",
       "1  1548       52 MARKET  AND TRADING                     990 ARCADE ST   \n",
       "2  8782           75 Market and Deli             1187 Minnehaha Ave E    \n",
       "3  8685                  7th Grocery                       43 7th St W   \n",
       "4  8875                   A A Market                 191 Western Ave N   \n",
       "5  8552           Aaran Halal Market              8904 Old Cedar Ave S   \n",
       "6  8379  Africa International Market                7617 Welcome Ave N   \n",
       "7  8783         African Halal & Deli                    405 E Lake St    \n",
       "8  8624                African Plaza               555 Snelling Ave N    \n",
       "9   341                AFRIK GROCERY                   613 CEDAR AVE S   \n",
       "0  7902                  AIN-U-SHAMS  131 Litchfield Ave SW, Suite 101   \n",
       "1  8672        Ainushams Halal Foods                     123 W Lake St   \n",
       "2  8618            Alif Halal Market     1501 Riverwood Dr, Suite 180    \n",
       "3  5336           AL & LAURA'S FOODS                     309 N Mill St   \n",
       "4  8390      Almadina Grocery Market               1001 E Franklin Ave   \n",
       "5  8971              Almich's Market                  2525 20th Street   \n",
       "6  8755              Almich's Market                   34 E Center Ave   \n",
       "7  1212              ALMICH'S MARKET                       1340 9TH ST   \n",
       "8   297       Almsted's Fresh Market                   4200 Douglas Dr   \n",
       "9  8788          A.M. Food & Tobacco               1814 Nicollet Ave S   \n",
       "\n",
       "    address.city  address.zipCode   address.county  \n",
       "0    MINNEAPOLIS            55408         HENNEPIN  \n",
       "1     SAINT PAUL            55106           RAMSEY  \n",
       "2     SAINT PAUL            55106           RAMSEY  \n",
       "3     SAINT PAUL            55102           RAMSEY  \n",
       "4     SAINT PAUL            55102           RAMSEY  \n",
       "5    BLOOMINGTON            55425         HENNEPIN  \n",
       "6  BROOKLYN PARK            55443         HENNEPIN  \n",
       "7    MINNEAPOLIS            55408         HENNEPIN  \n",
       "8     SAINT PAUL            55104           RAMSEY  \n",
       "9    MINNEAPOLIS            55454         HENNEPIN  \n",
       "0        WILLMAR            56201        KANDIYOHI  \n",
       "1    MINNEAPOLIS            55408         HENNEPIN  \n",
       "2     BURNSVILLE            55337           DAKOTA  \n",
       "3        FERTILE            56540             POLK  \n",
       "4    MINNEAPOLIS            55404         HENNEPIN  \n",
       "5        SLAYTON            56172           MURRAY  \n",
       "6     CLARA CITY            56222         CHIPPEWA  \n",
       "7  GRANITE FALLS            56241  YELLOW MEDICINE  \n",
       "8        CRYSTAL            55422         HENNEPIN  \n",
       "9    MINNEAPOLIS            55403         HENNEPIN  "
      ]
     },
     "execution_count": 8,
     "metadata": {},
     "output_type": "execute_result"
    }
   ],
   "source": [
    "# Check the first 20 data in df2\n",
    "#Note that in this data frame, the indices loop every ten rows\n",
    "df2.head(20)"
   ]
  },
  {
   "cell_type": "markdown",
   "metadata": {},
   "source": [
    "## Part 2: Get started with Google Place API"
   ]
  },
  {
   "cell_type": "markdown",
   "metadata": {},
   "source": [
    "Before using Google Place API. You must enable it from your Google account. To do this, please refer to https://developers.google.com/places/web-service/intro. If you're a new user, before you can start using the Google Maps Platform APIs and SDKs, you must sign up and create a billing account. To learn more, see https://developers.google.com/maps/gmp-get-started. \n",
    "\n",
    "After you enabled you API, you can get your API key for the next steps."
   ]
  },
  {
   "cell_type": "code",
   "execution_count": 9,
   "metadata": {},
   "outputs": [],
   "source": [
    "import googlemaps\n",
    "\n",
    "# Replace \"MY_API_KEY\" with your API key\n",
    "my_api_key = \"MY_API_KEY\"  "
   ]
  },
  {
   "cell_type": "code",
   "execution_count": 10,
   "metadata": {},
   "outputs": [],
   "source": [
    "# Get my Google Maps Platform API key\n",
    "gmaps_key = googlemaps.Client(key = my_api_key) "
   ]
  },
  {
   "cell_type": "code",
   "execution_count": 11,
   "metadata": {},
   "outputs": [],
   "source": [
    "# Here are the two basic url forms of Google Maps\n",
    "\n",
    "# A Text Search request is an HTTP URL of the following form:\n",
    "gmaps_text_url = \"https://maps.googleapis.com/maps/api/place/textsearch/json?\"\n",
    "\n",
    "# A Place Details request is an HTTP URL of the following form:\n",
    "gmaps_details_url = \"https://maps.googleapis.com/maps/api/place/details/json?\""
   ]
  },
  {
   "cell_type": "markdown",
   "metadata": {},
   "source": [
    "Next, we will use the second record - \"33RD MEAT & GROCERY\", to create our first query in Google Maps using Place API. The reason we use the second record is because the address of the first record, \"1st Quality Market\", doesn't match on the map.\n",
    "\n",
    "The following code blocks has two goals to achieve. First, we will search the grocery store \"33RD MEAT & GROCERY\" on Google Maps using the Text Search function to get its place id. Second, we will use its place id to access to the place details to get the opening hours. "
   ]
  },
  {
   "cell_type": "code",
   "execution_count": null,
   "metadata": {
    "scrolled": true
   },
   "outputs": [],
   "source": [
    "# Try the first query\n",
    "first_query = first_ten_data.loc[1, 'address.street']+\", \"+first_ten_data.loc[1, 'address.city']+\", \"+str(first_ten_data.loc[1, 'address.zipCode']) + \", \" + first_ten_data.loc[1, 'name'] # [0, 1, 2, ..., 9]\n",
    "first_query"
   ]
  },
  {
   "cell_type": "code",
   "execution_count": null,
   "metadata": {},
   "outputs": [],
   "source": [
    "# Get the response of the first query place \n",
    "start_url2 = gmaps_text_url + 'query=' + first_query + '&key=' + my_api_key\n",
    "resp2 = requests.get(start_url2)"
   ]
  },
  {
   "cell_type": "code",
   "execution_count": null,
   "metadata": {},
   "outputs": [],
   "source": [
    "# Display the information of the first query place\n",
    "gmaps_data_1 = resp2.json()\n",
    "gmaps_data_1"
   ]
  },
  {
   "cell_type": "markdown",
   "metadata": {},
   "source": [
    "In this case, we use Google Maps text search function to search the store. But text search does not always turn up the right address. Hence, to control the data quality, we set have to set two quality check fields to record the matching address and matching name. If both the matching address and matching name are identical with the address and name on the WIC website, that piece of data is valid. Otherwise, it is invalid. "
   ]
  },
  {
   "cell_type": "code",
   "execution_count": null,
   "metadata": {},
   "outputs": [],
   "source": [
    "# Get the matching address and the matching name for this query\n",
    "mat_addr_1 = gmaps_data_1['results'][0]['formatted_address']\n",
    "mat_name_1 = gmaps_data_1['results'][0]['name']\n",
    "print(mat_addr_1)\n",
    "print(mat_name_1)"
   ]
  },
  {
   "cell_type": "code",
   "execution_count": null,
   "metadata": {},
   "outputs": [],
   "source": [
    "# Get the place id for the first query place\n",
    "gmaps_place_id_1 = gmaps_data_1['results'][0]['place_id']\n",
    "gmaps_place_id_1"
   ]
  },
  {
   "cell_type": "code",
   "execution_count": null,
   "metadata": {},
   "outputs": [],
   "source": [
    "# Get the response of the place details search\n",
    "start_url3 = gmaps_details_url+ 'place_id=' + gmaps_place_id_1 + \"&key=\" + my_api_key\n",
    "resp3 = requests.get(start_url3)\n",
    "gmaps_data_details_1 = resp3.json()\n",
    "gmaps_data_details_1"
   ]
  },
  {
   "cell_type": "code",
   "execution_count": null,
   "metadata": {},
   "outputs": [],
   "source": [
    "gmaps_data_details_1['result']['opening_hours']['periods']"
   ]
  },
  {
   "cell_type": "code",
   "execution_count": null,
   "metadata": {},
   "outputs": [],
   "source": [
    "gmaps_data_details_1['result']['opening_hours']['weekday_text']"
   ]
  },
  {
   "cell_type": "markdown",
   "metadata": {},
   "source": [
    "Compare the two code blocks above, we can see that, in the  data structure of the Google Maps opening hours, day_0, day_1 ..., day_6 represents Sunday, Monday, ..., Saturday, respectively. "
   ]
  },
  {
   "cell_type": "code",
   "execution_count": null,
   "metadata": {},
   "outputs": [],
   "source": [
    "# Get the 'time' value of the second grocery store and store them in a list\n",
    "vals_1 = []\n",
    "for i in range(7):\n",
    "    data_1_close = gmaps_data_details_1['result']['opening_hours']['periods'][i]['close']['time']\n",
    "    data_1_open = gmaps_data_details_1['result']['opening_hours']['periods'][i]['open']['time']\n",
    "    vals_1.append(data_1_open)\n",
    "    vals_1.append(data_1_close)\n",
    "print(vals_1)"
   ]
  },
  {
   "cell_type": "markdown",
   "metadata": {},
   "source": [
    "## Part 3: Traverse the data list to get the a week's opening hours of each store"
   ]
  },
  {
   "cell_type": "markdown",
   "metadata": {},
   "source": [
    "We successfully get the opening hours of \"33RD MEAT & GROCERY\" in Part 2. This part we will create a nested \"for\" loop to access the opening hours of every grocery store. Here we break down the grocery stores by pages and then iterate through every ten record to get the information of each store. "
   ]
  },
  {
   "cell_type": "code",
   "execution_count": 12,
   "metadata": {},
   "outputs": [],
   "source": [
    "# Create 14 new columns to store open and close time from Sunday to Saturday\n",
    "new_cols = ['DAY0_OPEN', 'DAY0_CLOSE', \n",
    "            'DAY1_OPEN', 'DAY1_CLOSE', \n",
    "            'DAY2_OPEN', 'DAY2_CLOSE',\n",
    "            'DAY3_OPEN', 'DAY3_CLOSE',\n",
    "            'DAY4_OPEN', 'DAY4_CLOSE',\n",
    "            'DAY5_OPEN', 'DAY5_CLOSE',\n",
    "            'DAY6_OPEN', 'DAY6_CLOSE']"
   ]
  },
  {
   "cell_type": "code",
   "execution_count": 13,
   "metadata": {},
   "outputs": [],
   "source": [
    "# Create 2 new columns to store matching address\n",
    "match_cols = ['match_address', 'match_name']"
   ]
  },
  {
   "cell_type": "code",
   "execution_count": 14,
   "metadata": {},
   "outputs": [],
   "source": [
    "# Copy the dataframe \"df2\" into dataframe \"df3\" to reset its row index\n",
    "df3 = df2.reset_index(drop=True)"
   ]
  },
  {
   "cell_type": "code",
   "execution_count": 15,
   "metadata": {},
   "outputs": [],
   "source": [
    "# Assign basic indices to variables.  \n",
    "record_count = len(df3) \n",
    " \n",
    "new_vals = [] # Create a list to store opening and closing hours\n",
    "mat_addr_list = [] # Create a list to matching address\n",
    "mat_name_list = [] # Create a list to store matching name"
   ]
  },
  {
   "cell_type": "code",
   "execution_count": 16,
   "metadata": {},
   "outputs": [],
   "source": [
    "for index in range(record_count):\n",
    "    if '#' in df3.at[index,'name'] != None:\n",
    "        df3.loc[index,'name'] = df3.at[index,'name'].split('#')[0]"
   ]
  },
  {
   "cell_type": "code",
   "execution_count": 21,
   "metadata": {},
   "outputs": [
    {
     "name": "stdout",
     "output_type": "stream",
     "text": [
      "['NaN', 'NaN', 'NaN', 'NaN', 'NaN', 'NaN', 'NaN', 'NaN', 'NaN', 'NaN', 'NaN', 'NaN', 'NaN', 'NaN', '0800', '2000', '0800', '2000', '0800', '2000', '0800', '2000', '0800', '2000', '0800', '2000', '0800', '2000', '0830', '1800', '0830', '1900', '0830', '1900', '0830', '1900', '0830', '1900', '0830', '1900', '0830', '1900', '0700', '2200', '0700', '2200', '0700', '2200', '0700', '2200', '0700', '2200', '0700', '2200', '0700', '2200', '0800', '2300', '0800', '2300', '0800', '2300', '0800', '2300', '0800', '2300', '0800', '2300', '0800', '2300', '0600', '2200', '0600', '2200', '0600', '2200', '0600', '2200', '0600', '2200', '0600', '2200', '0600', '2200', '0900', '2030', '0900', '2030', '0900', '2030', '0900', '2030', '0900', '2030', '0900', '2030', '0900', '2030', '1000', '1600', '0900', '1900', '0900', '1900', '0900', '1900', '0900', '1900', '0900', '1900', '0900', '1800', '0930', '1900', '0930', '1900', '0930', '1900', '0930', '1900', '0930', '1900', '0930', '1900', '0930', '1900', 'NaN', 'NaN', 'NaN', 'NaN', 'NaN', 'NaN', 'NaN', 'NaN', 'NaN', 'NaN', 'NaN', 'NaN', 'NaN', 'NaN', 'NaN', 'NaN', 'NaN', 'NaN', 'NaN', 'NaN', 'NaN', 'NaN', 'NaN', 'NaN', 'NaN', 'NaN', 'NaN', 'NaN', 'NaN', 'NaN', 'NaN', 'NaN', 'NaN', 'NaN', 'NaN', 'NaN', 'NaN', 'NaN', 'NaN', 'NaN', 'NaN', 'NaN', 'NaN', 'NaN', 'NaN', 'NaN', 'NaN', 'NaN', 'NaN', 'NaN', 'NaN', 'NaN', 'NaN', 'NaN', 'NaN', 'NaN', 'NaN', 'NaN', 'NaN', 'NaN', 'NaN', 'NaN', 'NaN', 'NaN', 'NaN', 'NaN', 'NaN', 'NaN', 'NaN', 'NaN', '0800', '2200', '0800', '2200', '0800', '2200', '0800', '2200', '0800', '2200', '0800', '2200', '0800', '2200', '0900', '1700', '0800', '2000', '0800', '2000', '0800', '2000', '0800', '2000', '0800', '2000', '0800', '1900', '0630', '1900', '0630', '2000', '0630', '2000', '0630', '2000', '0630', '2000', '0630', '2000', '0630', '2000', '0700', '2000', '0600', '2000', '0600', '2000', '0600', '2000', '0600', '2000', '0600', '2000', '0700', '1700', '0700', '2300', '0600', '2300', '0600', '2300', '0600', '2300', '0600', '2300', '0600', '2300', '0600', '2300', '0900', '2200', '0800', '2200', '0800', '2200', '0800', '2200', '0800', '2200', '0800', '2200', '0800', '2200', '0900', '2100', '0900', '2100', '0900', '2100', '0900', '2100', '0900', '2100', '0900', '2100', '0900', '2100', 'NaN', 'NaN', 'NaN', 'NaN', 'NaN', 'NaN', 'NaN', 'NaN', 'NaN', 'NaN', 'NaN', 'NaN', 'NaN', 'NaN', '0800', '2100', '0700', '2100', '0700', '2100', '0700', '2100', '0700', '2100', '0700', '2100', '0800', '2100', '0800', '2000', '0800', '2000', '0800', '2000', '0800', '2000', '0800', '2000', '0800', '2000', '0800', '2000', 'NaN', 'NaN', 'NaN', 'NaN', 'NaN', 'NaN', 'NaN', 'NaN', 'NaN', 'NaN', 'NaN', 'NaN', 'NaN', 'NaN', '1000', '1400', '0730', '1830', '0730', '1830', '0730', '1830', '0730', '1830', '0730', '1830', '0800', '1830', 'NaN', 'NaN', 'NaN', 'NaN', 'NaN', 'NaN', 'NaN', 'NaN', 'NaN', 'NaN', 'NaN', 'NaN', 'NaN', 'NaN', '0700', '2000', '0700', '2000', '0700', '2000', '0700', '2000', '0700', '2000', '0700', '2000', '0700', '2000', '0700', '2300', '0700', '2300', '0700', '2300', '0700', '2300', '0700', '2300', '0700', '2300', '0700', '2300', '0700', '2100', '0600', '2100', '0600', '2100', '0600', '2100', '0600', '2100', '0600', '2100', '0700', '2100', '0900', '1400', '0800', '2000', '0800', '2000', '0800', '2000', '0800', '2000', '0800', '2000', '0800', '2000', '0800', '1800', '0800', '2000', '0800', '2000', '0800', '2000', '0800', '2000', '0800', '2000', '0800', '2000', '0700', '2200', '0700', '2200', '0700', '2200', '0700', '2200', '0700', '2200', '0700', '2200', '0700', '2200', '0830', '1200', '0730', '1800', '0730', '1800', '0730', '1800', '0730', '1800', '0730', '1800', '0730', '1730', '0800', '1900', '0630', '1900', '0630', '1900', '0630', '1900', '0630', '1900', '0630', '1900', '0700', '1900', '0600', '2200', '0600', '2200', '0600', '2200', '0600', '2200', '0600', '2200', '0600', '2200', '0600', '2200', '1000', '1500', '0830', '1900', '0830', '1900', '0830', '1900', '0830', '1900', '0830', '1900', '0900', '1700', 'NaN', 'NaN', 'NaN', 'NaN', 'NaN', 'NaN', 'NaN', 'NaN', 'NaN', 'NaN', 'NaN', 'NaN', 'NaN', 'NaN', '0600', '2300', '0530', '2300', '0530', '2300', '0530', '2300', '0530', '2300', '0530', '2300', '0600', '2300', '0600', '2200', '0600', '2200', '0600', '2200', '0600', '2200', '0600', '2200', '0600', '2200', '0600', '2200', '0600', '2300', '0500', '2300', '0500', '2300', '0500', '2300', '0500', '2300', '0500', '2300', '0600', '2300', '0600', '2300', '0530', '2300', '0530', '2300', '0530', '2300', '0530', '2300', '0530', '2300', '0600', '2300', '0900', '1900', '0700', '2100', '0700', '2100', '0700', '2100', '0700', '2100', '0700', '2100', '0800', '2000', 'NaN', 'NaN', 'NaN', 'NaN', 'NaN', 'NaN', 'NaN', 'NaN', 'NaN', 'NaN', 'NaN', 'NaN', 'NaN', 'NaN', '0800', '1800', '0700', '2000', '0700', '2000', '0700', '2000', '0700', '2000', '0700', '2000', '0700', '2000', '0700', '2300', '0700', '2300', '0700', '2300', '0700', '2300', '0700', '2300', '0700', '2300', '0700', '2300', '0900', '2200', '0900', '2200', '0900', '2200', '0900', '2200', '0900', '2200', '0900', '2200', '0900', '2200', '0800', '1230', '0730', '2000', '0730', '2000', '0730', '2000', '0730', '2000', '0730', '2000', '0800', '1830', '0800', '1800', '0800', '2000', '0800', '2000', '0800', '2000', '0800', '2000', '0800', '2000', '0800', '2000', '0900', '1800', '0800', '2000', '0800', '2000', '0800', '2000', '0800', '2000', '0800', '2000', '0800', '2000', '0900', '1230', '0800', '1800', '0800', '1800', '0800', '1800', '0800', '1800', '0800', '1800', '0900', '1600', '0900', '1500', '0800', '2000', '0800', '2000', '0800', '2000', '0800', '2000', '0800', '2000', '0800', '2000', '0800', '1200', '0730', '1830', '0730', '1830', '0730', '1830', '0730', '2000', '0730', '2000', '0730', '1730', 'NaN', 'NaN', 'NaN', 'NaN', 'NaN', 'NaN', 'NaN', 'NaN', 'NaN', 'NaN', 'NaN', 'NaN', 'NaN', 'NaN', '1100', '1800', '1000', '2200', '1000', '2200', '1000', '2200', '1000', '2200', '1000', '2200', '1000', '2200', '0700', '2200', '0700', '2200', '0700', '2200', '0700', '2200', '0700', '2200', '0700', '2200', '0700', '2200', '0800', '1630', '0800', '1630', '0800', '1630', '0800', '1630', '0800', '1630', 'NaN', 'NaN', 'NaN', 'NaN', 'NaN', 'NaN', 'NaN', 'NaN', 'NaN', 'NaN', 'NaN', 'NaN', 'NaN', 'NaN', 'NaN', 'NaN', 'NaN', 'NaN', '1000', '2100', '1000', '2100', '1000', '2100', '1000', '2100', '1000', '2100', '1000', '2100', '1000', '2100', '0800', '2200', '0700', '2200', '0700', '2200', '0700', '2200', '0700', '2200', '0700', '2200', '0800', '2200', 'NaN', 'NaN', 'NaN', 'NaN', 'NaN', 'NaN', 'NaN', 'NaN', 'NaN', 'NaN', 'NaN', 'NaN', 'NaN', 'NaN', '0800', '2100', '0800', '2100', '0800', '2100', '0800', '2100', '0800', '2100', '0800', '2100', '0800', '2100', '0800', '2000', '0800', '2000', '0800', '2000', '0800', '2000', '0800', '2000', '0800', '2000', '0800', '2000', '0900', '2000', '0845', '2000', '0900', '2000', '0900', '2000', '0900', '2000', '0900', '2000', '0900', '2000', '0900', '2100', '0900', '2100', '0900', '2100', '0900', '2100', '0900', '2100', '0900', '2100', '0900', '2100', '0800', '2200', '0800', '2200', '0800', '2200', '0800', '2200', '0800', '2200', '0800', '2200', '0800', '2200', '0800', '2000', '0700', '2200', '0700', '2200', '0700', '2200', '0700', '2200', '0700', '2200', '0800', '2200', '0900', '2200', '0900', '2200', '0900', '2200', '0900', '2200', '0900', '2200', '0900', '2200', '0900', '2200', '0000', '0000', '0000', '0000', '0000', '0000', '0000', '0000', '0000', '0000', '0000', '0000', '0000', '0000', '0600', '0000', '0600', '0000', '0600', '0000', '0600', '0000', '0600', '0000', '0600', '0000', '0600', '0000', '0600', '0000', '0600', '0000', '0600', '0000', '0600', '0000', '0600', '0000', '0600', '0000', '0600', '0000', '0000', '0000', '0000', '0000', '0000', '0000', '0000', '0000', '0000', '0000', '0000', '0000', '0000', '0000', '0600', '2300', '0600', '2300', '0600', '2300', '0600', '2300', '0600', '2300', '0600', '2300', '0600', '2300', '0000', '0000', '0000', '0000', '0000', '0000', '0000', '0000', '0000', '0000', '0000', '0000', '0000', '0000', '0600', '0000', '0600', '0000', '0600', '0000', '0600', '0000', '0600', '0000', '0600', '0000', '0600', '0000', '0600', '0000', '0600', '0000', '0600', '0000', '0600', '0000', '0600', '0000', '0600', '0000', '0600', '0000', '0800', '2300', '0800', '2300', '0800', '2300', '0800', '2300', '0800', '2300', '0800', '2300', '0800', '2300', '0000', '0000', '0000', '0000', '0000', '0000', '0000', '0000', '0000', '0000', '0000', '0000', '0000', '0000', 'NaN', 'NaN', 'NaN', 'NaN', 'NaN', 'NaN', 'NaN', 'NaN', 'NaN', 'NaN', 'NaN', 'NaN', 'NaN', 'NaN', 'NaN', 'NaN', 'NaN', 'NaN', 'NaN', 'NaN', 'NaN', 'NaN', 'NaN', 'NaN', 'NaN', 'NaN', 'NaN', 'NaN', '0800', '1900', '0800', '2000', '0800', '2000', '0800', '2000', '0800', '2000', '0800', '2000', '0800', '2000', '0800', '2000', '0800', '2000', '0800', '2000', '0800', '2000', '0800', '2000', '0800', '2000', '0800', '2000', '0900', '1800', '0800', '1800', '0800', '1800', '0800', '1800', '0800', '1800', '0800', '1800', '0900', '1800', '0800', '2000', '0800', '2000', '0800', '2000', '0800', '2000', '0800', '2000', '0800', '2000', '0800', '2000', '0800', '2000', '0700', '2100', '0700', '2100', '0700', '2100', '0700', '2100', '0700', '2100', '0700', '2100', '0600', '2100', '0600', '2100', '0600', '2100', '0600', '2100', '0600', '2100', '0600', '2100', '0600', '2100', '0900', '2200', '0900', '2100', '0900', '2100', '0900', '2100', '0900', '2100', '0900', '2100', '0900', '2200', '0730', '2100', '0730', '2100', '0730', '2100', '0730', '2100', '0730', '2100', '0800', '2000', 'NaN', 'NaN', '0800', '2200', '0800', '2200', '0800', '2200', '0800', '2200', '0800', '2200', '0800', '2200', '0800', '2200', '0000', '0000', '0000', '0000', '0000', '0000', '0000', '0000', '0000', '0000', '0000', '0000', '0000', '0000', '0600', '2300', '0600', '2300', '0600', '2300', '0600', '2300', '0600', '2300', '0600', '2300', '0600', '2300', '0600', '2300', '0600', '2300', '0600', '2300', '0600', '2300', '0600', '2300', '0600', '2300', '0600', '2300', '0600', '2300', '0600', '2300', '0600', '2300', '0600', '2300', '0600', '2300', '0600', '2300', '0600', '2300', '0600', '2300', '0600', '2300', '0600', '2300', '0600', '2300', '0600', '2300', '0600', '2300', '0600', '2300', '0600', '2300', '0600', '2300', '0600', '2300', '0600', '2300', '0600', '2300', '0600', '2300', '0600', '2300', '0600', '0000', '0600', '0000', '0600', '0000', '0600', '0000', '0600', '0000', '0600', '0000', '0600', '0000', '0600', '0000', '0600', '0000', '0600', '0000', '0600', '0000', '0600', '0000', '0600', '0000', '0600', '0000', '0600', '2300', '0600', '2300', '0600', '2300', '0600', '2300', '0600', '2300', '0600', '2300', '0600', '2300', '0600', '2300', '0600', '2300', '0600', '2300', '0600', '2300', '0600', '2300', '0600', '2300', '0600', '2300', '0600', '2300', '0600', '2300', '0600', '2300', '0600', '2300', '0600', '2300', '0600', '2300', '0600', '2300']\n",
      "['NaN', '990 Arcade St, St Paul, MN 55106, United States', '1187 Minnehaha Ave E, St Paul, MN 55106, United States', '43 7th St W, St Paul, MN 55102, United States', '191 Western Ave N # 1, St Paul, MN 55102, United States', '8904 Old Cedar Ave S, Bloomington, MN 55425, United States', '7617 Welcome Ave N, Brooklyn Park, MN 55443, United States', '405 E Lake St, Minneapolis, MN 55408, United States', '555 Snelling Ave N, St Paul, MN 55104, United States', '613 Cedar Ave, Minneapolis, MN 55454, United States', 'NaN', '123 W Lake St, Minneapolis, MN 55408, United States', '1501 Riverwood Dr #180, Burnsville, MN 55337, United States', '309 N Mill St, Fertile, MN 56540, USA', '1001 E Franklin Ave, Minneapolis, MN 55404, United States', '2525 20th St, Slayton, MN 56172, United States', '34 East Center Ave W, Clara City, MN 56222, United States', '1340 9th St, Granite Falls, MN 56241, United States', '4200 Douglas Dr N, Crystal, MN 55422, United States', '1814 Nicollet Ave, Minneapolis, MN 55403, United States', '302 4th St SW SUITE 3, Willmar, MN 56201, United States', 'Andale Taqueria & Mercado, 7700 Nicollet Ave, Minneapolis, MN 55423, USA', '1333 Thomas Ave W, St Paul, MN 55104, United States', '1423 Rice St, St Paul, MN 55117, United States', 'NaN', '33 Main St S, Clearbrook, MN 56634, United States', '1005 N Broadway Ave, Rochester, MN 55906, United States', '123 2nd St SE, Barnesville, MN 56514, United States', '311 Lyndale Ave N, Faribault, MN 55021, United States', '506 Big Lake Rd, Cloquet, MN 55720, United States', '525 Douglas Ave, Henning, MN 56551, United States', '1002 W Lincoln Ave, Olivia, MN 56277, United States', '13400 1st St, Becker, MN 55308, United States', '114 Vernon Ave, Morgan, MN 56266, United States', '501 Glen St SW, Eyota, MN 55934, United States', '215 1st St SW, Plainview, MN 55964, United States', '234 Main St, Milan, MN 56262, United States', '212 5th St SW, Willmar, MN 56201, United States', '3100 Brookdale Dr N, Brooklyn Park, MN 55443, United States', '17333 55th Ave NW, Royalton, MN 56373, United States', '15299 St Francis Blvd NW, Ramsey, MN 55303, United States', '6290 Boone Ave N, Brooklyn Park, MN 55428, United States', '132 W Nichols Ave, Montevideo, MN 56265, United States', '2926 Chicago Ave, Minneapolis, MN 55407, United States', '288 Frontage Rd, Blackduck, MN 56630, United States', '108 Blake Rd N, Hopkins, MN 55343, United States', '431, Bloomington, MN 55420, United States', '309 De Graff Ave, Swanville, MN 56382, United States', '100 2nd St, Bovey, MN 55709, United States', '156 N Tyler St, Tyler, MN 56178, United States', '427 Main St, Clinton, MN 56225, United States', '517 Pacific Ave, Randall, MN 56475, United States', '128 N Jefferson St, Minneota, MN 56264, United States', 'NaN', '105 International Dr, Red Lake Falls, MN 56750, United States', '11460 Brink Avenue, Chisago City, MN 55013, United States', '420 W Broadway Ave, Minneapolis, MN 55411, United States', '112 Main St, Lake Bronson, MN 56734, United States', '2156 Hoffman Rd, Mankato, MN 56001, United States', '5358 Wyoming Trail, Wyoming, MN 55092, United States', 'NaN', '857 Payne Ave, St Paul, MN 55130, United States', '500 3rd St, Carlton, MN 55718, United States', '417 E Lake St # 60, Minneapolis, MN 55408, United States', '3149 Nicollet Ave, Minneapolis, MN 55408, United States', '3246 Nicollet Ave, Minneapolis, MN 55408, United States', '716 11th Ave S, Hopkins, MN 55343, United States', '933 Case Ave E, St Paul, MN 55106, United States', '1300 5th St SE, Willmar, MN 56201, United States', '1020 MN-15, Hutchinson, MN 55350, United States', '1220 Westridge Rd, New Ulm, MN 56073, United States', '3300 Highway 10 E, Moorhead, MN 56560, United States', '1230 N State St, Waseca, MN 56093, United States', '113 South Waite Ave S, Waite Park, MN 56387, United States', '495 W North St, Owatonna, MN 55060, United States', '1001 4th St SE, St Cloud, MN 56304, United States', '2600 Cedar Ave, Minneapolis, MN 55407, United States', '211 Market Dr, Perham, MN 56573, United States', '310 Frazee St E, Detroit Lakes, MN 56501, United States', '1718 7th St E, St Paul, MN 55106, United States', '816 E 7th St, St Paul, MN 55106, United States', '1952, 133 W 4th St, Chaska, MN 55318, United States', '48548 Co Hwy 129, Ponsford, MN 56575, United States', '130 1st St SW, Chisholm, MN 55719, United States', '320 MN-123, Sandstone, MN 55072, United States', '3733 Nicollet Ave, Minneapolis, MN 55409, United States', '1825 E Lake St, Minneapolis, MN 55407, United States', '920 10th St, Clarkfield, MN 56223, United States', '1552 E Lake St, Minneapolis, MN 55407, United States', '110 1st St S, Sauk Rapids, MN 56379, United States', '161 Glen St, Foley, MN 56329, United States', '2118 Veterans Dr, St Cloud, MN 56303, United States', '1101 2nd Ave NE, Little Falls, MN 56345, United States', '707 1st Ave N, Sartell, MN 56377, United States', '705 County Rd 75 NW, Clearwater, MN 55320, United States', '645 Lake St S, Long Prairie, MN 56347, United States', '710 Frankie Ln, Mora, MN 55051, United States', '1100 7th Ave S, Princeton, MN 55371, United States', '214 12th St S, Sauk Centre, MN 56378, United States', '19425 Evans St NW, Elk River, MN 55330, United States']\n",
      "['NaN', '52 Market & Trading', '75 Market', '7th Grocery', 'AA Market', 'Aaran Halal Market', 'AFRICA INTERNATIONAL MARKET', 'African Safari Meat Market', 'Star Food Market', 'Afrik Grocery', 'NaN', 'Ainushams Halal Foods', 'Alif Halal', '309 N Mill St', 'Almadina Halal', \"Jim's Market\", 'Almich Market', \"Almich's Market\", \"Almsted's Fresh Market\", 'AM Food Market', 'Amin Grocery LLC', 'Andale Taqueria & Mercado', 'Super USA', 'Nepali Market', 'NaN', 'Bakkens Fairway Market', 'Broadway Grocery', 'Barnesville Super Market', 'Barwaqo halal market inc', 'B & B Market', 'B & D Foods Inc', 'B&D Market', 'Becker Food Pride', 'SUPERVALU', 'Eyota Market', \"Bennett's Food Center\", \"Bergen's Prairie Market\", \"Bihi's Shop of African Food\", \"Bill's Market\", \"BILL'S Superette\", \"BILL'S Superette\", \"BILL'S Superette\", \"Bill's Supermarket\", 'Bismillah', 'Blackduck Family Foods', 'Halal Meat', 'Blue Nile Halal Market', \"Bob & Fran's Grocery\", \"Bob's Country Market\", \"Maynard's Food Center\", \"Bonnie's Home Town Grocery\", \"Boone's Market\", 'Brads Market', 'NaN', 'Park Place Mall', \"Brink's Market\", 'Kemps LLC', 'Lake Bronson Community Center', 'Somali Restaurant And Grocery', \"Bruce's Foods\", 'NaN', 'Bymore Supermercado', 'Carlton Meat & Grocery', 'Carniceria La Huazteca Inc', 'Valeries Carniceria', 'Casablanca Foods', 'Casablanca Market', 'Tonys Market', 'Cash Wise Foods', 'Cash Wise Foods', 'Cash Wise Foods', 'Cash Wise Foods', 'Cash Wise Foods', 'Cash Wise Foods', 'Cash Wise Foods', 'Cash Wise Foods', 'Cedar Food & Grill', 'Central Market', 'Central Market', 'Centro American Express', 'Centromex Supermercado', 'Chaska Market', 'Chief Corner Store', 'Jubilee Foods', \"Chris' Food Center\", 'Cinco De Mayo Mercado', 'City Market & Halal Meat', 'Family Foods', 'Dur Dur Bakery & Grocery Store', \"Coborn's\", \"Coborn's\", \"Coborn's\", \"Coborn's\", \"Coborn's\", \"Coborn's\", \"Coborn's\", \"Coborn's\", \"Coborn's\", \"Coborn's\", \"Coborn's\"]\n"
     ]
    }
   ],
   "source": [
    "# iterate through the index of each store in the dataframe \n",
    "for index in range(60,100): # which is supposed to be record_count !!!! \n",
    "    query = df3.at[index,'address.street'] + ', ' + df3.at[index,'address.city']+ ', ' + str(df3.at[index,'address.zipCode'])+ ', ' + df3.at[index,'name']\n",
    "    gmaps_search_url = gmaps_text_url + 'query=' + query + '&key=' + my_api_key\n",
    "    gmaps_search_resp = requests.get(gmaps_search_url)\n",
    "    gmaps_place_data = gmaps_search_resp.json()\n",
    "        \n",
    "    # If there's no match on the Google maps, we fill the dataframe with \"NaN\"\n",
    "    if gmaps_place_data['status'] == 'ZERO_RESULTS':\n",
    "        new_vals.extend(['NaN', 'NaN', 'NaN', 'NaN', 'NaN', 'NaN', 'NaN', 'NaN', 'NaN', 'NaN', 'NaN', 'NaN', 'NaN', 'NaN'])\n",
    "        mat_addr_list.append('NaN')\n",
    "        mat_name_list.append('NaN')\n",
    "    \n",
    "    # If there is a match result by searching the store address and name:\n",
    "    else:\n",
    "        \n",
    "        # Try to use its place id to get the opening hours. Also, get the match name and match address\n",
    "        try:\n",
    "            gmaps_place_id = gmaps_place_data['results'][0]['place_id']\n",
    "            matching_addr = gmaps_place_data['results'][0]['formatted_address']\n",
    "            mat_addr_list.append(matching_addr)\n",
    "            matching_name = gmaps_place_data['results'][0]['name']\n",
    "            mat_name_list.append(matching_name) \n",
    "            gmaps_placedetails_url = gmaps_details_url+ 'place_id=' + gmaps_place_id + \"&key=\" + my_api_key\n",
    "            gmaps_placedetails_resp = requests.get(gmaps_placedetails_url)\n",
    "            gmaps_placedetails = gmaps_placedetails_resp.json()\n",
    "            for i in range(7):               \n",
    "                try:\n",
    "                    \n",
    "                    # If the store is open 24 hours every day, fill the time cells with '0000' \n",
    "                    if gmaps_placedetails['result']['opening_hours']['periods'][0] == {'open': {'day': 0, 'time': '0000'}}:\n",
    "                        new_vals.extend(['0000', '0000'])\n",
    "                    \n",
    "                    # If the store has regular opening and closing time, get the time\n",
    "                    else:\n",
    "                        data_open = gmaps_placedetails['result']['opening_hours']['periods'][i]['open']['time']\n",
    "                        data_close = gmaps_placedetails['result']['opening_hours']['periods'][i]['close']['time']\n",
    "                        new_vals.append(data_open)\n",
    "                        new_vals.append(data_close)\n",
    "\n",
    "                # If the opening hours for the matched store is not available, we fill the dataframe cells with \"NaN\"\n",
    "                except:\n",
    "                    new_vals.extend(['NaN', 'NaN'])\n",
    "        \n",
    "        # For some reason, the place id of some stores are not available. If so, fill the dataframe with \"NaN\" \n",
    "        except: \n",
    "            new_vals.extend(['NaN', 'NaN', 'NaN', 'NaN', 'NaN', 'NaN', 'NaN', 'NaN', 'NaN', 'NaN', 'NaN', 'NaN', 'NaN', 'NaN'])\n",
    "            mat_addr_list.append('NaN')\n",
    "            mat_name_list.append('NaN')\n",
    "\n",
    "# Take a look at our data\n",
    "print(new_vals)\n",
    "print(mat_addr_list)\n",
    "print(mat_name_list)"
   ]
  },
  {
   "cell_type": "code",
   "execution_count": 22,
   "metadata": {},
   "outputs": [
    {
     "name": "stdout",
     "output_type": "stream",
     "text": [
      "1400\n",
      "100\n",
      "100\n"
     ]
    }
   ],
   "source": [
    "# Check the number of our data\n",
    "print(len(new_vals))\n",
    "print(len(mat_addr_list))\n",
    "print(len(mat_name_list))"
   ]
  },
  {
   "cell_type": "code",
   "execution_count": 23,
   "metadata": {},
   "outputs": [
    {
     "name": "stdout",
     "output_type": "stream",
     "text": [
      "[['NaN', 'NaN', 'NaN', 'NaN', 'NaN', 'NaN', 'NaN', 'NaN', 'NaN', 'NaN', 'NaN', 'NaN', 'NaN', 'NaN'], ['0800', '2000', '0800', '2000', '0800', '2000', '0800', '2000', '0800', '2000', '0800', '2000', '0800', '2000'], ['0830', '1800', '0830', '1900', '0830', '1900', '0830', '1900', '0830', '1900', '0830', '1900', '0830', '1900'], ['0700', '2200', '0700', '2200', '0700', '2200', '0700', '2200', '0700', '2200', '0700', '2200', '0700', '2200'], ['0800', '2300', '0800', '2300', '0800', '2300', '0800', '2300', '0800', '2300', '0800', '2300', '0800', '2300'], ['0600', '2200', '0600', '2200', '0600', '2200', '0600', '2200', '0600', '2200', '0600', '2200', '0600', '2200'], ['0900', '2030', '0900', '2030', '0900', '2030', '0900', '2030', '0900', '2030', '0900', '2030', '0900', '2030'], ['1000', '1600', '0900', '1900', '0900', '1900', '0900', '1900', '0900', '1900', '0900', '1900', '0900', '1800'], ['0930', '1900', '0930', '1900', '0930', '1900', '0930', '1900', '0930', '1900', '0930', '1900', '0930', '1900'], ['NaN', 'NaN', 'NaN', 'NaN', 'NaN', 'NaN', 'NaN', 'NaN', 'NaN', 'NaN', 'NaN', 'NaN', 'NaN', 'NaN'], ['NaN', 'NaN', 'NaN', 'NaN', 'NaN', 'NaN', 'NaN', 'NaN', 'NaN', 'NaN', 'NaN', 'NaN', 'NaN', 'NaN'], ['NaN', 'NaN', 'NaN', 'NaN', 'NaN', 'NaN', 'NaN', 'NaN', 'NaN', 'NaN', 'NaN', 'NaN', 'NaN', 'NaN'], ['NaN', 'NaN', 'NaN', 'NaN', 'NaN', 'NaN', 'NaN', 'NaN', 'NaN', 'NaN', 'NaN', 'NaN', 'NaN', 'NaN'], ['NaN', 'NaN', 'NaN', 'NaN', 'NaN', 'NaN', 'NaN', 'NaN', 'NaN', 'NaN', 'NaN', 'NaN', 'NaN', 'NaN'], ['0800', '2200', '0800', '2200', '0800', '2200', '0800', '2200', '0800', '2200', '0800', '2200', '0800', '2200'], ['0900', '1700', '0800', '2000', '0800', '2000', '0800', '2000', '0800', '2000', '0800', '2000', '0800', '1900'], ['0630', '1900', '0630', '2000', '0630', '2000', '0630', '2000', '0630', '2000', '0630', '2000', '0630', '2000'], ['0700', '2000', '0600', '2000', '0600', '2000', '0600', '2000', '0600', '2000', '0600', '2000', '0700', '1700'], ['0700', '2300', '0600', '2300', '0600', '2300', '0600', '2300', '0600', '2300', '0600', '2300', '0600', '2300'], ['0900', '2200', '0800', '2200', '0800', '2200', '0800', '2200', '0800', '2200', '0800', '2200', '0800', '2200'], ['0900', '2100', '0900', '2100', '0900', '2100', '0900', '2100', '0900', '2100', '0900', '2100', '0900', '2100'], ['NaN', 'NaN', 'NaN', 'NaN', 'NaN', 'NaN', 'NaN', 'NaN', 'NaN', 'NaN', 'NaN', 'NaN', 'NaN', 'NaN'], ['0800', '2100', '0700', '2100', '0700', '2100', '0700', '2100', '0700', '2100', '0700', '2100', '0800', '2100'], ['0800', '2000', '0800', '2000', '0800', '2000', '0800', '2000', '0800', '2000', '0800', '2000', '0800', '2000'], ['NaN', 'NaN', 'NaN', 'NaN', 'NaN', 'NaN', 'NaN', 'NaN', 'NaN', 'NaN', 'NaN', 'NaN', 'NaN', 'NaN'], ['1000', '1400', '0730', '1830', '0730', '1830', '0730', '1830', '0730', '1830', '0730', '1830', '0800', '1830'], ['NaN', 'NaN', 'NaN', 'NaN', 'NaN', 'NaN', 'NaN', 'NaN', 'NaN', 'NaN', 'NaN', 'NaN', 'NaN', 'NaN'], ['0700', '2000', '0700', '2000', '0700', '2000', '0700', '2000', '0700', '2000', '0700', '2000', '0700', '2000'], ['0700', '2300', '0700', '2300', '0700', '2300', '0700', '2300', '0700', '2300', '0700', '2300', '0700', '2300'], ['0700', '2100', '0600', '2100', '0600', '2100', '0600', '2100', '0600', '2100', '0600', '2100', '0700', '2100'], ['0900', '1400', '0800', '2000', '0800', '2000', '0800', '2000', '0800', '2000', '0800', '2000', '0800', '2000'], ['0800', '1800', '0800', '2000', '0800', '2000', '0800', '2000', '0800', '2000', '0800', '2000', '0800', '2000'], ['0700', '2200', '0700', '2200', '0700', '2200', '0700', '2200', '0700', '2200', '0700', '2200', '0700', '2200'], ['0830', '1200', '0730', '1800', '0730', '1800', '0730', '1800', '0730', '1800', '0730', '1800', '0730', '1730'], ['0800', '1900', '0630', '1900', '0630', '1900', '0630', '1900', '0630', '1900', '0630', '1900', '0700', '1900'], ['0600', '2200', '0600', '2200', '0600', '2200', '0600', '2200', '0600', '2200', '0600', '2200', '0600', '2200'], ['1000', '1500', '0830', '1900', '0830', '1900', '0830', '1900', '0830', '1900', '0830', '1900', '0900', '1700'], ['NaN', 'NaN', 'NaN', 'NaN', 'NaN', 'NaN', 'NaN', 'NaN', 'NaN', 'NaN', 'NaN', 'NaN', 'NaN', 'NaN'], ['0600', '2300', '0530', '2300', '0530', '2300', '0530', '2300', '0530', '2300', '0530', '2300', '0600', '2300'], ['0600', '2200', '0600', '2200', '0600', '2200', '0600', '2200', '0600', '2200', '0600', '2200', '0600', '2200'], ['0600', '2300', '0500', '2300', '0500', '2300', '0500', '2300', '0500', '2300', '0500', '2300', '0600', '2300'], ['0600', '2300', '0530', '2300', '0530', '2300', '0530', '2300', '0530', '2300', '0530', '2300', '0600', '2300'], ['0900', '1900', '0700', '2100', '0700', '2100', '0700', '2100', '0700', '2100', '0700', '2100', '0800', '2000'], ['NaN', 'NaN', 'NaN', 'NaN', 'NaN', 'NaN', 'NaN', 'NaN', 'NaN', 'NaN', 'NaN', 'NaN', 'NaN', 'NaN'], ['0800', '1800', '0700', '2000', '0700', '2000', '0700', '2000', '0700', '2000', '0700', '2000', '0700', '2000'], ['0700', '2300', '0700', '2300', '0700', '2300', '0700', '2300', '0700', '2300', '0700', '2300', '0700', '2300'], ['0900', '2200', '0900', '2200', '0900', '2200', '0900', '2200', '0900', '2200', '0900', '2200', '0900', '2200'], ['0800', '1230', '0730', '2000', '0730', '2000', '0730', '2000', '0730', '2000', '0730', '2000', '0800', '1830'], ['0800', '1800', '0800', '2000', '0800', '2000', '0800', '2000', '0800', '2000', '0800', '2000', '0800', '2000'], ['0900', '1800', '0800', '2000', '0800', '2000', '0800', '2000', '0800', '2000', '0800', '2000', '0800', '2000'], ['0900', '1230', '0800', '1800', '0800', '1800', '0800', '1800', '0800', '1800', '0800', '1800', '0900', '1600'], ['0900', '1500', '0800', '2000', '0800', '2000', '0800', '2000', '0800', '2000', '0800', '2000', '0800', '2000'], ['0800', '1200', '0730', '1830', '0730', '1830', '0730', '1830', '0730', '2000', '0730', '2000', '0730', '1730'], ['NaN', 'NaN', 'NaN', 'NaN', 'NaN', 'NaN', 'NaN', 'NaN', 'NaN', 'NaN', 'NaN', 'NaN', 'NaN', 'NaN'], ['1100', '1800', '1000', '2200', '1000', '2200', '1000', '2200', '1000', '2200', '1000', '2200', '1000', '2200'], ['0700', '2200', '0700', '2200', '0700', '2200', '0700', '2200', '0700', '2200', '0700', '2200', '0700', '2200'], ['0800', '1630', '0800', '1630', '0800', '1630', '0800', '1630', '0800', '1630', 'NaN', 'NaN', 'NaN', 'NaN'], ['NaN', 'NaN', 'NaN', 'NaN', 'NaN', 'NaN', 'NaN', 'NaN', 'NaN', 'NaN', 'NaN', 'NaN', 'NaN', 'NaN'], ['1000', '2100', '1000', '2100', '1000', '2100', '1000', '2100', '1000', '2100', '1000', '2100', '1000', '2100'], ['0800', '2200', '0700', '2200', '0700', '2200', '0700', '2200', '0700', '2200', '0700', '2200', '0800', '2200'], ['NaN', 'NaN', 'NaN', 'NaN', 'NaN', 'NaN', 'NaN', 'NaN', 'NaN', 'NaN', 'NaN', 'NaN', 'NaN', 'NaN'], ['0800', '2100', '0800', '2100', '0800', '2100', '0800', '2100', '0800', '2100', '0800', '2100', '0800', '2100'], ['0800', '2000', '0800', '2000', '0800', '2000', '0800', '2000', '0800', '2000', '0800', '2000', '0800', '2000'], ['0900', '2000', '0845', '2000', '0900', '2000', '0900', '2000', '0900', '2000', '0900', '2000', '0900', '2000'], ['0900', '2100', '0900', '2100', '0900', '2100', '0900', '2100', '0900', '2100', '0900', '2100', '0900', '2100'], ['0800', '2200', '0800', '2200', '0800', '2200', '0800', '2200', '0800', '2200', '0800', '2200', '0800', '2200'], ['0800', '2000', '0700', '2200', '0700', '2200', '0700', '2200', '0700', '2200', '0700', '2200', '0800', '2200'], ['0900', '2200', '0900', '2200', '0900', '2200', '0900', '2200', '0900', '2200', '0900', '2200', '0900', '2200'], ['0000', '0000', '0000', '0000', '0000', '0000', '0000', '0000', '0000', '0000', '0000', '0000', '0000', '0000'], ['0600', '0000', '0600', '0000', '0600', '0000', '0600', '0000', '0600', '0000', '0600', '0000', '0600', '0000'], ['0600', '0000', '0600', '0000', '0600', '0000', '0600', '0000', '0600', '0000', '0600', '0000', '0600', '0000'], ['0000', '0000', '0000', '0000', '0000', '0000', '0000', '0000', '0000', '0000', '0000', '0000', '0000', '0000'], ['0600', '2300', '0600', '2300', '0600', '2300', '0600', '2300', '0600', '2300', '0600', '2300', '0600', '2300'], ['0000', '0000', '0000', '0000', '0000', '0000', '0000', '0000', '0000', '0000', '0000', '0000', '0000', '0000'], ['0600', '0000', '0600', '0000', '0600', '0000', '0600', '0000', '0600', '0000', '0600', '0000', '0600', '0000'], ['0600', '0000', '0600', '0000', '0600', '0000', '0600', '0000', '0600', '0000', '0600', '0000', '0600', '0000'], ['0800', '2300', '0800', '2300', '0800', '2300', '0800', '2300', '0800', '2300', '0800', '2300', '0800', '2300'], ['0000', '0000', '0000', '0000', '0000', '0000', '0000', '0000', '0000', '0000', '0000', '0000', '0000', '0000'], ['NaN', 'NaN', 'NaN', 'NaN', 'NaN', 'NaN', 'NaN', 'NaN', 'NaN', 'NaN', 'NaN', 'NaN', 'NaN', 'NaN'], ['NaN', 'NaN', 'NaN', 'NaN', 'NaN', 'NaN', 'NaN', 'NaN', 'NaN', 'NaN', 'NaN', 'NaN', 'NaN', 'NaN'], ['0800', '1900', '0800', '2000', '0800', '2000', '0800', '2000', '0800', '2000', '0800', '2000', '0800', '2000'], ['0800', '2000', '0800', '2000', '0800', '2000', '0800', '2000', '0800', '2000', '0800', '2000', '0800', '2000'], ['0900', '1800', '0800', '1800', '0800', '1800', '0800', '1800', '0800', '1800', '0800', '1800', '0900', '1800'], ['0800', '2000', '0800', '2000', '0800', '2000', '0800', '2000', '0800', '2000', '0800', '2000', '0800', '2000'], ['0800', '2000', '0700', '2100', '0700', '2100', '0700', '2100', '0700', '2100', '0700', '2100', '0700', '2100'], ['0600', '2100', '0600', '2100', '0600', '2100', '0600', '2100', '0600', '2100', '0600', '2100', '0600', '2100'], ['0900', '2200', '0900', '2100', '0900', '2100', '0900', '2100', '0900', '2100', '0900', '2100', '0900', '2200'], ['0730', '2100', '0730', '2100', '0730', '2100', '0730', '2100', '0730', '2100', '0800', '2000', 'NaN', 'NaN'], ['0800', '2200', '0800', '2200', '0800', '2200', '0800', '2200', '0800', '2200', '0800', '2200', '0800', '2200'], ['0000', '0000', '0000', '0000', '0000', '0000', '0000', '0000', '0000', '0000', '0000', '0000', '0000', '0000'], ['0600', '2300', '0600', '2300', '0600', '2300', '0600', '2300', '0600', '2300', '0600', '2300', '0600', '2300'], ['0600', '2300', '0600', '2300', '0600', '2300', '0600', '2300', '0600', '2300', '0600', '2300', '0600', '2300'], ['0600', '2300', '0600', '2300', '0600', '2300', '0600', '2300', '0600', '2300', '0600', '2300', '0600', '2300'], ['0600', '2300', '0600', '2300', '0600', '2300', '0600', '2300', '0600', '2300', '0600', '2300', '0600', '2300'], ['0600', '2300', '0600', '2300', '0600', '2300', '0600', '2300', '0600', '2300', '0600', '2300', '0600', '2300'], ['0600', '0000', '0600', '0000', '0600', '0000', '0600', '0000', '0600', '0000', '0600', '0000', '0600', '0000'], ['0600', '0000', '0600', '0000', '0600', '0000', '0600', '0000', '0600', '0000', '0600', '0000', '0600', '0000'], ['0600', '2300', '0600', '2300', '0600', '2300', '0600', '2300', '0600', '2300', '0600', '2300', '0600', '2300'], ['0600', '2300', '0600', '2300', '0600', '2300', '0600', '2300', '0600', '2300', '0600', '2300', '0600', '2300'], ['0600', '2300', '0600', '2300', '0600', '2300', '0600', '2300', '0600', '2300', '0600', '2300', '0600', '2300']]\n"
     ]
    }
   ],
   "source": [
    "# Slice the data list at every 14th time record (2 time information * 7 days)\n",
    "chunks = [new_vals[x:x+14] for x in range(0, len(new_vals), 14)]\n",
    "print(chunks)"
   ]
  },
  {
   "cell_type": "code",
   "execution_count": 24,
   "metadata": {},
   "outputs": [
    {
     "name": "stdout",
     "output_type": "stream",
     "text": [
      "   DAY0_OPEN DAY0_CLOSE DAY1_OPEN DAY1_CLOSE DAY2_OPEN DAY2_CLOSE DAY3_OPEN  \\\n",
      "0        NaN        NaN       NaN        NaN       NaN        NaN       NaN   \n",
      "0       0800       2000      0800       2000      0800       2000      0800   \n",
      "0       0830       1800      0830       1900      0830       1900      0830   \n",
      "0       0700       2200      0700       2200      0700       2200      0700   \n",
      "0       0800       2300      0800       2300      0800       2300      0800   \n",
      "..       ...        ...       ...        ...       ...        ...       ...   \n",
      "0       0600       0000      0600       0000      0600       0000      0600   \n",
      "0       0600       0000      0600       0000      0600       0000      0600   \n",
      "0       0600       2300      0600       2300      0600       2300      0600   \n",
      "0       0600       2300      0600       2300      0600       2300      0600   \n",
      "0       0600       2300      0600       2300      0600       2300      0600   \n",
      "\n",
      "   DAY3_CLOSE DAY4_OPEN DAY4_CLOSE DAY5_OPEN DAY5_CLOSE DAY6_OPEN DAY6_CLOSE  \n",
      "0         NaN       NaN        NaN       NaN        NaN       NaN        NaN  \n",
      "0        2000      0800       2000      0800       2000      0800       2000  \n",
      "0        1900      0830       1900      0830       1900      0830       1900  \n",
      "0        2200      0700       2200      0700       2200      0700       2200  \n",
      "0        2300      0800       2300      0800       2300      0800       2300  \n",
      "..        ...       ...        ...       ...        ...       ...        ...  \n",
      "0        0000      0600       0000      0600       0000      0600       0000  \n",
      "0        0000      0600       0000      0600       0000      0600       0000  \n",
      "0        2300      0600       2300      0600       2300      0600       2300  \n",
      "0        2300      0600       2300      0600       2300      0600       2300  \n",
      "0        2300      0600       2300      0600       2300      0600       2300  \n",
      "\n",
      "[100 rows x 14 columns]\n"
     ]
    }
   ],
   "source": [
    "# Construct a dataframe using the columns created before\n",
    "# Store every 14 records into a row\n",
    "df5 = pd.DataFrame()\n",
    "for i in range(len(chunks)):\n",
    "    df4 = pd.DataFrame([chunks[i]], columns=new_cols) \n",
    "    df5 = df5.append(df4)\n",
    "print(df5)"
   ]
  },
  {
   "cell_type": "code",
   "execution_count": 25,
   "metadata": {},
   "outputs": [],
   "source": [
    "# Copy the dataframe \"df5\" into dataframe \"df6\" to reset its row index\n",
    "# This step is for concatenate two dataframes along the column, too\n",
    "df6 = df5.reset_index(drop=True)"
   ]
  },
  {
   "cell_type": "code",
   "execution_count": 26,
   "metadata": {},
   "outputs": [
    {
     "data": {
      "text/html": [
       "<div>\n",
       "<style scoped>\n",
       "    .dataframe tbody tr th:only-of-type {\n",
       "        vertical-align: middle;\n",
       "    }\n",
       "\n",
       "    .dataframe tbody tr th {\n",
       "        vertical-align: top;\n",
       "    }\n",
       "\n",
       "    .dataframe thead th {\n",
       "        text-align: right;\n",
       "    }\n",
       "</style>\n",
       "<table border=\"1\" class=\"dataframe\">\n",
       "  <thead>\n",
       "    <tr style=\"text-align: right;\">\n",
       "      <th></th>\n",
       "      <th>match_address</th>\n",
       "      <th>match_name</th>\n",
       "    </tr>\n",
       "  </thead>\n",
       "  <tbody>\n",
       "    <tr>\n",
       "      <td>0</td>\n",
       "      <td>NaN</td>\n",
       "      <td>NaN</td>\n",
       "    </tr>\n",
       "    <tr>\n",
       "      <td>1</td>\n",
       "      <td>990 Arcade St, St Paul, MN 55106, United States</td>\n",
       "      <td>52 Market &amp; Trading</td>\n",
       "    </tr>\n",
       "    <tr>\n",
       "      <td>2</td>\n",
       "      <td>1187 Minnehaha Ave E, St Paul, MN 55106, Unite...</td>\n",
       "      <td>75 Market</td>\n",
       "    </tr>\n",
       "    <tr>\n",
       "      <td>3</td>\n",
       "      <td>43 7th St W, St Paul, MN 55102, United States</td>\n",
       "      <td>7th Grocery</td>\n",
       "    </tr>\n",
       "    <tr>\n",
       "      <td>4</td>\n",
       "      <td>191 Western Ave N # 1, St Paul, MN 55102, Unit...</td>\n",
       "      <td>AA Market</td>\n",
       "    </tr>\n",
       "    <tr>\n",
       "      <td>...</td>\n",
       "      <td>...</td>\n",
       "      <td>...</td>\n",
       "    </tr>\n",
       "    <tr>\n",
       "      <td>95</td>\n",
       "      <td>645 Lake St S, Long Prairie, MN 56347, United ...</td>\n",
       "      <td>Coborn's</td>\n",
       "    </tr>\n",
       "    <tr>\n",
       "      <td>96</td>\n",
       "      <td>710 Frankie Ln, Mora, MN 55051, United States</td>\n",
       "      <td>Coborn's</td>\n",
       "    </tr>\n",
       "    <tr>\n",
       "      <td>97</td>\n",
       "      <td>1100 7th Ave S, Princeton, MN 55371, United St...</td>\n",
       "      <td>Coborn's</td>\n",
       "    </tr>\n",
       "    <tr>\n",
       "      <td>98</td>\n",
       "      <td>214 12th St S, Sauk Centre, MN 56378, United S...</td>\n",
       "      <td>Coborn's</td>\n",
       "    </tr>\n",
       "    <tr>\n",
       "      <td>99</td>\n",
       "      <td>19425 Evans St NW, Elk River, MN 55330, United...</td>\n",
       "      <td>Coborn's</td>\n",
       "    </tr>\n",
       "  </tbody>\n",
       "</table>\n",
       "<p>100 rows × 2 columns</p>\n",
       "</div>"
      ],
      "text/plain": [
       "                                        match_address           match_name\n",
       "0                                                 NaN                  NaN\n",
       "1     990 Arcade St, St Paul, MN 55106, United States  52 Market & Trading\n",
       "2   1187 Minnehaha Ave E, St Paul, MN 55106, Unite...            75 Market\n",
       "3       43 7th St W, St Paul, MN 55102, United States          7th Grocery\n",
       "4   191 Western Ave N # 1, St Paul, MN 55102, Unit...            AA Market\n",
       "..                                                ...                  ...\n",
       "95  645 Lake St S, Long Prairie, MN 56347, United ...             Coborn's\n",
       "96      710 Frankie Ln, Mora, MN 55051, United States             Coborn's\n",
       "97  1100 7th Ave S, Princeton, MN 55371, United St...             Coborn's\n",
       "98  214 12th St S, Sauk Centre, MN 56378, United S...             Coborn's\n",
       "99  19425 Evans St NW, Elk River, MN 55330, United...             Coborn's\n",
       "\n",
       "[100 rows x 2 columns]"
      ]
     },
     "execution_count": 26,
     "metadata": {},
     "output_type": "execute_result"
    }
   ],
   "source": [
    "# Create a dataframe \"df7\" to\n",
    "mat_data_dict = {'match_address': mat_addr_list, 'match_name': mat_name_list}\n",
    "df7 = pd.DataFrame(mat_data_dict, columns=match_cols)\n",
    "df7"
   ]
  },
  {
   "cell_type": "markdown",
   "metadata": {},
   "source": [
    "Now we have three dataframes \"df3\", \"df6\", and \"df7\" in the same row indices. The first stores grocery stores and their addresses, the second stores their opening hours, and the third stores the matching information. "
   ]
  },
  {
   "cell_type": "code",
   "execution_count": 27,
   "metadata": {},
   "outputs": [],
   "source": [
    "# Concatenate the two dataframes along the column\n",
    "df8 = pd.concat([df3, df6, df7], axis=1)"
   ]
  },
  {
   "cell_type": "code",
   "execution_count": 28,
   "metadata": {},
   "outputs": [],
   "source": [
    "df8.to_csv(\"data_samples_3.csv\")"
   ]
  },
  {
   "cell_type": "code",
   "execution_count": null,
   "metadata": {},
   "outputs": [],
   "source": []
  }
 ],
 "metadata": {
  "kernelspec": {
   "display_name": "Python 3",
   "language": "python",
   "name": "python3"
  },
  "language_info": {
   "codemirror_mode": {
    "name": "ipython",
    "version": 3
   },
   "file_extension": ".py",
   "mimetype": "text/x-python",
   "name": "python",
   "nbconvert_exporter": "python",
   "pygments_lexer": "ipython3",
   "version": "3.7.4"
  }
 },
 "nbformat": 4,
 "nbformat_minor": 2
}
