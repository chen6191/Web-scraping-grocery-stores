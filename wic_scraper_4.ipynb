{
 "cells": [
  {
   "cell_type": "markdown",
   "metadata": {},
   "source": [
    "# Python Web Scraper For WIC Grocery Stores"
   ]
  },
  {
   "cell_type": "markdown",
   "metadata": {},
   "source": [
    "## Part 1:Scraping store names and adresses from WIC Grocery Stores website"
   ]
  },
  {
   "cell_type": "code",
   "execution_count": 1,
   "metadata": {},
   "outputs": [],
   "source": [
    "import requests  # used to get url\n",
    "import json  # used to read json files on the webpage\n",
    "import pandas as pd  # used to integrate data"
   ]
  },
  {
   "cell_type": "markdown",
   "metadata": {},
   "source": [
    "The starting url was the request url when you turn the page. It could be retrived from Developer Tools -> Network -> Headers only after turning the page. \n",
    "\n",
    "The data on this website are 85 pages of JSON files. Each page has 10 stores and their addresses. The total number of pages may be updated. Please update the variable 'page_count' to reflect the current total number of pages."
   ]
  },
  {
   "cell_type": "code",
   "execution_count": 2,
   "metadata": {},
   "outputs": [],
   "source": [
    "# There are 84 pages on the WIC website\n",
    "page_count = 84\n",
    "\n",
    "# Begin with page 1\n",
    "page_number = 1\n",
    "\n",
    "# start_url begins with page 1 as well\n",
    "start_url = 'https://wicgrocerystores.web.health.state.mn.us/search?criteria=&size=10&page=' + str(page_number)"
   ]
  },
  {
   "cell_type": "code",
   "execution_count": 3,
   "metadata": {},
   "outputs": [
    {
     "name": "stdout",
     "output_type": "stream",
     "text": [
      "{'totalElements': 828, 'data': [{'id': '8245', 'name': '1st Quality Market', 'address': {'street': '2655 Nicollet Ave', 'city': 'MINNEAPOLIS', 'zipCode': 55408, 'county': 'HENNEPIN'}}, {'id': '1548', 'name': '52 MARKET  AND TRADING', 'address': {'street': '990 ARCADE ST', 'city': 'SAINT PAUL', 'zipCode': 55106, 'county': 'RAMSEY'}}, {'id': '8782', 'name': '75 Market and Deli', 'address': {'street': '1187 MINNEHAHA AVE EAST', 'city': 'SAINT PAUL', 'zipCode': 55106, 'county': 'RAMSEY'}}, {'id': '8685', 'name': '7th Grocery', 'address': {'street': '43 7TH STREET W', 'city': 'SAINT PAUL', 'zipCode': 55102, 'county': 'RAMSEY'}}, {'id': '8875', 'name': 'A A Market', 'address': {'street': '191 WESTERN AVENUE', 'city': 'SAINT PAUL', 'zipCode': 55102, 'county': 'RAMSEY'}}, {'id': '8552', 'name': 'Aaran Halal Market', 'address': {'street': '8904 Old Cedar Ave S', 'city': 'BLOOMINGTON', 'zipCode': 55425, 'county': 'HENNEPIN'}}, {'id': '8379', 'name': 'Africa International Market', 'address': {'street': '7617 Welcome Ave N', 'city': 'BROOKLYN PARK', 'zipCode': 55443, 'county': 'HENNEPIN'}}, {'id': '8783', 'name': 'African Halal & Deli', 'address': {'street': '405 E Lake St ', 'city': 'MINNEAPOLIS', 'zipCode': 55408, 'county': 'HENNEPIN'}}, {'id': '8624', 'name': 'African Plaza', 'address': {'street': '555 SNELLING AVE N', 'city': '', 'zipCode': 55104, 'county': ''}}, {'id': '341', 'name': 'AFRIK GROCERY', 'address': {'street': '613 CEDAR AVE S', 'city': 'MINNEAPOLIS', 'zipCode': 55454, 'county': 'HENNEPIN'}}]}\n"
     ]
    }
   ],
   "source": [
    "# Get response from start_url\n",
    "resp = requests.get(start_url)\n",
    "\n",
    "# Load the json file in start_url (only page 1 is there)\n",
    "data = json.loads(resp.text)\n",
    "print(data)"
   ]
  },
  {
   "cell_type": "code",
   "execution_count": 4,
   "metadata": {},
   "outputs": [
    {
     "data": {
      "text/html": [
       "<div>\n",
       "<style scoped>\n",
       "    .dataframe tbody tr th:only-of-type {\n",
       "        vertical-align: middle;\n",
       "    }\n",
       "\n",
       "    .dataframe tbody tr th {\n",
       "        vertical-align: top;\n",
       "    }\n",
       "\n",
       "    .dataframe thead th {\n",
       "        text-align: right;\n",
       "    }\n",
       "</style>\n",
       "<table border=\"1\" class=\"dataframe\">\n",
       "  <thead>\n",
       "    <tr style=\"text-align: right;\">\n",
       "      <th></th>\n",
       "      <th>id</th>\n",
       "      <th>name</th>\n",
       "      <th>address.street</th>\n",
       "      <th>address.city</th>\n",
       "      <th>address.zipCode</th>\n",
       "      <th>address.county</th>\n",
       "    </tr>\n",
       "  </thead>\n",
       "  <tbody>\n",
       "    <tr>\n",
       "      <td>0</td>\n",
       "      <td>8245</td>\n",
       "      <td>1st Quality Market</td>\n",
       "      <td>2655 Nicollet Ave</td>\n",
       "      <td>MINNEAPOLIS</td>\n",
       "      <td>55408</td>\n",
       "      <td>HENNEPIN</td>\n",
       "    </tr>\n",
       "    <tr>\n",
       "      <td>1</td>\n",
       "      <td>1548</td>\n",
       "      <td>52 MARKET  AND TRADING</td>\n",
       "      <td>990 ARCADE ST</td>\n",
       "      <td>SAINT PAUL</td>\n",
       "      <td>55106</td>\n",
       "      <td>RAMSEY</td>\n",
       "    </tr>\n",
       "    <tr>\n",
       "      <td>2</td>\n",
       "      <td>8782</td>\n",
       "      <td>75 Market and Deli</td>\n",
       "      <td>1187 MINNEHAHA AVE EAST</td>\n",
       "      <td>SAINT PAUL</td>\n",
       "      <td>55106</td>\n",
       "      <td>RAMSEY</td>\n",
       "    </tr>\n",
       "    <tr>\n",
       "      <td>3</td>\n",
       "      <td>8685</td>\n",
       "      <td>7th Grocery</td>\n",
       "      <td>43 7TH STREET W</td>\n",
       "      <td>SAINT PAUL</td>\n",
       "      <td>55102</td>\n",
       "      <td>RAMSEY</td>\n",
       "    </tr>\n",
       "    <tr>\n",
       "      <td>4</td>\n",
       "      <td>8875</td>\n",
       "      <td>A A Market</td>\n",
       "      <td>191 WESTERN AVENUE</td>\n",
       "      <td>SAINT PAUL</td>\n",
       "      <td>55102</td>\n",
       "      <td>RAMSEY</td>\n",
       "    </tr>\n",
       "    <tr>\n",
       "      <td>5</td>\n",
       "      <td>8552</td>\n",
       "      <td>Aaran Halal Market</td>\n",
       "      <td>8904 Old Cedar Ave S</td>\n",
       "      <td>BLOOMINGTON</td>\n",
       "      <td>55425</td>\n",
       "      <td>HENNEPIN</td>\n",
       "    </tr>\n",
       "    <tr>\n",
       "      <td>6</td>\n",
       "      <td>8379</td>\n",
       "      <td>Africa International Market</td>\n",
       "      <td>7617 Welcome Ave N</td>\n",
       "      <td>BROOKLYN PARK</td>\n",
       "      <td>55443</td>\n",
       "      <td>HENNEPIN</td>\n",
       "    </tr>\n",
       "    <tr>\n",
       "      <td>7</td>\n",
       "      <td>8783</td>\n",
       "      <td>African Halal &amp; Deli</td>\n",
       "      <td>405 E Lake St</td>\n",
       "      <td>MINNEAPOLIS</td>\n",
       "      <td>55408</td>\n",
       "      <td>HENNEPIN</td>\n",
       "    </tr>\n",
       "    <tr>\n",
       "      <td>8</td>\n",
       "      <td>8624</td>\n",
       "      <td>African Plaza</td>\n",
       "      <td>555 SNELLING AVE N</td>\n",
       "      <td></td>\n",
       "      <td>55104</td>\n",
       "      <td></td>\n",
       "    </tr>\n",
       "    <tr>\n",
       "      <td>9</td>\n",
       "      <td>341</td>\n",
       "      <td>AFRIK GROCERY</td>\n",
       "      <td>613 CEDAR AVE S</td>\n",
       "      <td>MINNEAPOLIS</td>\n",
       "      <td>55454</td>\n",
       "      <td>HENNEPIN</td>\n",
       "    </tr>\n",
       "  </tbody>\n",
       "</table>\n",
       "</div>"
      ],
      "text/plain": [
       "     id                         name           address.street   address.city  \\\n",
       "0  8245           1st Quality Market        2655 Nicollet Ave    MINNEAPOLIS   \n",
       "1  1548       52 MARKET  AND TRADING            990 ARCADE ST     SAINT PAUL   \n",
       "2  8782           75 Market and Deli  1187 MINNEHAHA AVE EAST     SAINT PAUL   \n",
       "3  8685                  7th Grocery          43 7TH STREET W     SAINT PAUL   \n",
       "4  8875                   A A Market       191 WESTERN AVENUE     SAINT PAUL   \n",
       "5  8552           Aaran Halal Market     8904 Old Cedar Ave S    BLOOMINGTON   \n",
       "6  8379  Africa International Market       7617 Welcome Ave N  BROOKLYN PARK   \n",
       "7  8783         African Halal & Deli           405 E Lake St     MINNEAPOLIS   \n",
       "8  8624                African Plaza       555 SNELLING AVE N                  \n",
       "9   341                AFRIK GROCERY          613 CEDAR AVE S    MINNEAPOLIS   \n",
       "\n",
       "   address.zipCode address.county  \n",
       "0            55408       HENNEPIN  \n",
       "1            55106         RAMSEY  \n",
       "2            55106         RAMSEY  \n",
       "3            55102         RAMSEY  \n",
       "4            55102         RAMSEY  \n",
       "5            55425       HENNEPIN  \n",
       "6            55443       HENNEPIN  \n",
       "7            55408       HENNEPIN  \n",
       "8            55104                 \n",
       "9            55454       HENNEPIN  "
      ]
     },
     "execution_count": 4,
     "metadata": {},
     "output_type": "execute_result"
    }
   ],
   "source": [
    "# Normalize the json file into the pandas data frame called \"df\".\n",
    "df = pd.io.json.json_normalize(data['data'])\n",
    "df"
   ]
  },
  {
   "cell_type": "markdown",
   "metadata": {},
   "source": [
    "Note that \"df\" only have the information of the first 10 stores. Now We still have to load all 840 stores. "
   ]
  },
  {
   "cell_type": "code",
   "execution_count": 5,
   "metadata": {},
   "outputs": [],
   "source": [
    "# Store 840 grocery stores into a pandas data frame called \"df2\".\n",
    "df2 = pd.DataFrame()\n",
    "\n",
    "# Here I create a for loop to get through all pages\n",
    "for page_number in range(page_count):  \n",
    "    page_number = page_number + 1\n",
    "    start_url = 'https://wicgrocerystores.web.health.state.mn.us/search?criteria=&size=10&page=' + str(page_number)\n",
    "    resp_next = requests.get(start_url)\n",
    "    data = json.loads(resp_next.text)\n",
    "    df = pd.io.json.json_normalize(data['data'])\n",
    "    df2 = df2.append(df)"
   ]
  },
  {
   "cell_type": "code",
   "execution_count": 6,
   "metadata": {},
   "outputs": [
    {
     "name": "stdout",
     "output_type": "stream",
     "text": [
      "84\n",
      "https://wicgrocerystores.web.health.state.mn.us/search?criteria=&size=10&page=84\n"
     ]
    }
   ],
   "source": [
    "# Check if the loop runs to the end\n",
    "print(page_number)\n",
    "print(start_url)"
   ]
  },
  {
   "cell_type": "code",
   "execution_count": 7,
   "metadata": {},
   "outputs": [
    {
     "data": {
      "text/plain": [
       "828"
      ]
     },
     "execution_count": 7,
     "metadata": {},
     "output_type": "execute_result"
    }
   ],
   "source": [
    "# Get the total number of store records\n",
    "len(df2)"
   ]
  },
  {
   "cell_type": "code",
   "execution_count": 8,
   "metadata": {},
   "outputs": [
    {
     "data": {
      "text/html": [
       "<div>\n",
       "<style scoped>\n",
       "    .dataframe tbody tr th:only-of-type {\n",
       "        vertical-align: middle;\n",
       "    }\n",
       "\n",
       "    .dataframe tbody tr th {\n",
       "        vertical-align: top;\n",
       "    }\n",
       "\n",
       "    .dataframe thead th {\n",
       "        text-align: right;\n",
       "    }\n",
       "</style>\n",
       "<table border=\"1\" class=\"dataframe\">\n",
       "  <thead>\n",
       "    <tr style=\"text-align: right;\">\n",
       "      <th></th>\n",
       "      <th>id</th>\n",
       "      <th>name</th>\n",
       "      <th>address.street</th>\n",
       "      <th>address.city</th>\n",
       "      <th>address.zipCode</th>\n",
       "      <th>address.county</th>\n",
       "    </tr>\n",
       "  </thead>\n",
       "  <tbody>\n",
       "    <tr>\n",
       "      <td>0</td>\n",
       "      <td>8245</td>\n",
       "      <td>1st Quality Market</td>\n",
       "      <td>2655 Nicollet Ave</td>\n",
       "      <td>MINNEAPOLIS</td>\n",
       "      <td>55408</td>\n",
       "      <td>HENNEPIN</td>\n",
       "    </tr>\n",
       "    <tr>\n",
       "      <td>1</td>\n",
       "      <td>1548</td>\n",
       "      <td>52 MARKET  AND TRADING</td>\n",
       "      <td>990 ARCADE ST</td>\n",
       "      <td>SAINT PAUL</td>\n",
       "      <td>55106</td>\n",
       "      <td>RAMSEY</td>\n",
       "    </tr>\n",
       "    <tr>\n",
       "      <td>2</td>\n",
       "      <td>8782</td>\n",
       "      <td>75 Market and Deli</td>\n",
       "      <td>1187 MINNEHAHA AVE EAST</td>\n",
       "      <td>SAINT PAUL</td>\n",
       "      <td>55106</td>\n",
       "      <td>RAMSEY</td>\n",
       "    </tr>\n",
       "    <tr>\n",
       "      <td>3</td>\n",
       "      <td>8685</td>\n",
       "      <td>7th Grocery</td>\n",
       "      <td>43 7TH STREET W</td>\n",
       "      <td>SAINT PAUL</td>\n",
       "      <td>55102</td>\n",
       "      <td>RAMSEY</td>\n",
       "    </tr>\n",
       "    <tr>\n",
       "      <td>4</td>\n",
       "      <td>8875</td>\n",
       "      <td>A A Market</td>\n",
       "      <td>191 WESTERN AVENUE</td>\n",
       "      <td>SAINT PAUL</td>\n",
       "      <td>55102</td>\n",
       "      <td>RAMSEY</td>\n",
       "    </tr>\n",
       "    <tr>\n",
       "      <td>5</td>\n",
       "      <td>8552</td>\n",
       "      <td>Aaran Halal Market</td>\n",
       "      <td>8904 Old Cedar Ave S</td>\n",
       "      <td>BLOOMINGTON</td>\n",
       "      <td>55425</td>\n",
       "      <td>HENNEPIN</td>\n",
       "    </tr>\n",
       "    <tr>\n",
       "      <td>6</td>\n",
       "      <td>8379</td>\n",
       "      <td>Africa International Market</td>\n",
       "      <td>7617 Welcome Ave N</td>\n",
       "      <td>BROOKLYN PARK</td>\n",
       "      <td>55443</td>\n",
       "      <td>HENNEPIN</td>\n",
       "    </tr>\n",
       "    <tr>\n",
       "      <td>7</td>\n",
       "      <td>8783</td>\n",
       "      <td>African Halal &amp; Deli</td>\n",
       "      <td>405 E Lake St</td>\n",
       "      <td>MINNEAPOLIS</td>\n",
       "      <td>55408</td>\n",
       "      <td>HENNEPIN</td>\n",
       "    </tr>\n",
       "    <tr>\n",
       "      <td>8</td>\n",
       "      <td>8624</td>\n",
       "      <td>African Plaza</td>\n",
       "      <td>555 SNELLING AVE N</td>\n",
       "      <td></td>\n",
       "      <td>55104</td>\n",
       "      <td></td>\n",
       "    </tr>\n",
       "    <tr>\n",
       "      <td>9</td>\n",
       "      <td>341</td>\n",
       "      <td>AFRIK GROCERY</td>\n",
       "      <td>613 CEDAR AVE S</td>\n",
       "      <td>MINNEAPOLIS</td>\n",
       "      <td>55454</td>\n",
       "      <td>HENNEPIN</td>\n",
       "    </tr>\n",
       "    <tr>\n",
       "      <td>0</td>\n",
       "      <td>7902</td>\n",
       "      <td>AIN-U-SHAMS</td>\n",
       "      <td>131  LITCHFIELD AVE. SW, Suite 101</td>\n",
       "      <td>WILLMAR</td>\n",
       "      <td>56201</td>\n",
       "      <td>KANDIYOHI</td>\n",
       "    </tr>\n",
       "    <tr>\n",
       "      <td>1</td>\n",
       "      <td>8672</td>\n",
       "      <td>AINUSHAMS HALAL FOODS</td>\n",
       "      <td>123 W LAKE ST</td>\n",
       "      <td>MINNEAPOLIS</td>\n",
       "      <td>55408</td>\n",
       "      <td>HENNEPIN</td>\n",
       "    </tr>\n",
       "    <tr>\n",
       "      <td>2</td>\n",
       "      <td>8618</td>\n",
       "      <td>Alif Halal Market</td>\n",
       "      <td>1501 Riverwood Dr, Suite 180</td>\n",
       "      <td>BURNSVILLE</td>\n",
       "      <td>55337</td>\n",
       "      <td>DAKOTA</td>\n",
       "    </tr>\n",
       "    <tr>\n",
       "      <td>3</td>\n",
       "      <td>5336</td>\n",
       "      <td>AL &amp; LAURA'S FOODS</td>\n",
       "      <td>309 N MILL STREET</td>\n",
       "      <td>FERTILE</td>\n",
       "      <td>56540</td>\n",
       "      <td>POLK</td>\n",
       "    </tr>\n",
       "    <tr>\n",
       "      <td>4</td>\n",
       "      <td>8390</td>\n",
       "      <td>ALMADINA GROCERY MARKET</td>\n",
       "      <td>1001 E FRANKLIN AVE</td>\n",
       "      <td>MINNEAPOLIS</td>\n",
       "      <td>55404</td>\n",
       "      <td>HENNEPIN</td>\n",
       "    </tr>\n",
       "    <tr>\n",
       "      <td>5</td>\n",
       "      <td>8971</td>\n",
       "      <td>Almich's Market</td>\n",
       "      <td>2525 20th Street</td>\n",
       "      <td>SLAYTON</td>\n",
       "      <td>56172</td>\n",
       "      <td>MURRAY</td>\n",
       "    </tr>\n",
       "    <tr>\n",
       "      <td>6</td>\n",
       "      <td>8755</td>\n",
       "      <td>Almich's Market</td>\n",
       "      <td>34 E Center Ave</td>\n",
       "      <td>CLARA CITY</td>\n",
       "      <td>56222</td>\n",
       "      <td>CHIPPEWA</td>\n",
       "    </tr>\n",
       "    <tr>\n",
       "      <td>7</td>\n",
       "      <td>1212</td>\n",
       "      <td>ALMICH'S MARKET</td>\n",
       "      <td>1340 9TH ST</td>\n",
       "      <td>GRANITE FALLS</td>\n",
       "      <td>56241</td>\n",
       "      <td>YELLOW MEDICINE</td>\n",
       "    </tr>\n",
       "    <tr>\n",
       "      <td>8</td>\n",
       "      <td>297</td>\n",
       "      <td>ALMSTED'S FRESH MARKET</td>\n",
       "      <td>4200 DOUGLAS DR</td>\n",
       "      <td>CRYSTAL</td>\n",
       "      <td>55422</td>\n",
       "      <td>HENNEPIN</td>\n",
       "    </tr>\n",
       "    <tr>\n",
       "      <td>9</td>\n",
       "      <td>8788</td>\n",
       "      <td>A.M. Food &amp; Tobacco</td>\n",
       "      <td>1814 Nicollet Ave S</td>\n",
       "      <td>MINNEAPOLIS</td>\n",
       "      <td>55403</td>\n",
       "      <td>HENNEPIN</td>\n",
       "    </tr>\n",
       "  </tbody>\n",
       "</table>\n",
       "</div>"
      ],
      "text/plain": [
       "     id                         name                      address.street  \\\n",
       "0  8245           1st Quality Market                   2655 Nicollet Ave   \n",
       "1  1548       52 MARKET  AND TRADING                       990 ARCADE ST   \n",
       "2  8782           75 Market and Deli             1187 MINNEHAHA AVE EAST   \n",
       "3  8685                  7th Grocery                     43 7TH STREET W   \n",
       "4  8875                   A A Market                  191 WESTERN AVENUE   \n",
       "5  8552           Aaran Halal Market                8904 Old Cedar Ave S   \n",
       "6  8379  Africa International Market                  7617 Welcome Ave N   \n",
       "7  8783         African Halal & Deli                      405 E Lake St    \n",
       "8  8624                African Plaza                  555 SNELLING AVE N   \n",
       "9   341                AFRIK GROCERY                     613 CEDAR AVE S   \n",
       "0  7902                  AIN-U-SHAMS  131  LITCHFIELD AVE. SW, Suite 101   \n",
       "1  8672        AINUSHAMS HALAL FOODS                       123 W LAKE ST   \n",
       "2  8618            Alif Halal Market       1501 Riverwood Dr, Suite 180    \n",
       "3  5336           AL & LAURA'S FOODS                   309 N MILL STREET   \n",
       "4  8390      ALMADINA GROCERY MARKET                 1001 E FRANKLIN AVE   \n",
       "5  8971              Almich's Market                    2525 20th Street   \n",
       "6  8755              Almich's Market                     34 E Center Ave   \n",
       "7  1212              ALMICH'S MARKET                         1340 9TH ST   \n",
       "8   297       ALMSTED'S FRESH MARKET                     4200 DOUGLAS DR   \n",
       "9  8788          A.M. Food & Tobacco                 1814 Nicollet Ave S   \n",
       "\n",
       "    address.city  address.zipCode   address.county  \n",
       "0    MINNEAPOLIS            55408         HENNEPIN  \n",
       "1     SAINT PAUL            55106           RAMSEY  \n",
       "2     SAINT PAUL            55106           RAMSEY  \n",
       "3     SAINT PAUL            55102           RAMSEY  \n",
       "4     SAINT PAUL            55102           RAMSEY  \n",
       "5    BLOOMINGTON            55425         HENNEPIN  \n",
       "6  BROOKLYN PARK            55443         HENNEPIN  \n",
       "7    MINNEAPOLIS            55408         HENNEPIN  \n",
       "8                           55104                   \n",
       "9    MINNEAPOLIS            55454         HENNEPIN  \n",
       "0        WILLMAR            56201        KANDIYOHI  \n",
       "1    MINNEAPOLIS            55408         HENNEPIN  \n",
       "2     BURNSVILLE            55337           DAKOTA  \n",
       "3        FERTILE            56540             POLK  \n",
       "4    MINNEAPOLIS            55404         HENNEPIN  \n",
       "5        SLAYTON            56172           MURRAY  \n",
       "6     CLARA CITY            56222         CHIPPEWA  \n",
       "7  GRANITE FALLS            56241  YELLOW MEDICINE  \n",
       "8        CRYSTAL            55422         HENNEPIN  \n",
       "9    MINNEAPOLIS            55403         HENNEPIN  "
      ]
     },
     "execution_count": 8,
     "metadata": {},
     "output_type": "execute_result"
    }
   ],
   "source": [
    "# Check the first 20 data in df2\n",
    "#Note that in this data frame, the indices loop every ten rows\n",
    "df2.head(20)"
   ]
  },
  {
   "cell_type": "markdown",
   "metadata": {},
   "source": [
    "## Part 2: Get started with Google Place API"
   ]
  },
  {
   "cell_type": "markdown",
   "metadata": {},
   "source": [
    "Before using Google Place API. You must enable it from your Google account. To do this, please refer to https://developers.google.com/places/web-service/intro. If you're a new user, before you can start using the Google Maps Platform APIs and SDKs, you must sign up and create a billing account. To learn more, see https://developers.google.com/maps/gmp-get-started. \n",
    "\n",
    "After you enabled you API, you can get your API key for the next steps."
   ]
  },
  {
   "cell_type": "code",
   "execution_count": 9,
   "metadata": {},
   "outputs": [],
   "source": [
    "import googlemaps\n",
    "\n",
    "# Replace \"MY_API_KEY\" with your API key\n",
    "my_api_key = \"MY_API_KEY\"  "
   ]
  },
  {
   "cell_type": "code",
   "execution_count": 10,
   "metadata": {},
   "outputs": [],
   "source": [
    "# Get my Google Maps Platform API key\n",
    "gmaps_key = googlemaps.Client(key = my_api_key) "
   ]
  },
  {
   "cell_type": "code",
   "execution_count": 11,
   "metadata": {},
   "outputs": [],
   "source": [
    "# Here are the two basic url forms of Google Maps\n",
    "\n",
    "# A Text Search request is an HTTP URL of the following form:\n",
    "gmaps_text_url = \"https://maps.googleapis.com/maps/api/place/textsearch/json?\"\n",
    "\n",
    "# A Place Details request is an HTTP URL of the following form:\n",
    "gmaps_details_url = \"https://maps.googleapis.com/maps/api/place/details/json?\""
   ]
  },
  {
   "cell_type": "markdown",
   "metadata": {},
   "source": [
    "Next, we will use the second record - \"52 Market and Trading\", to create our first query in Google Maps using Place API. The reason we use the second record is because the address of the first record, \"1st Quality Market\", doesn't match on the map.\n",
    "\n",
    "The following code blocks has two goals to achieve. First, we will search the grocery store \"52 Market and Trading\" on Google Maps using the Text Search function to get its place id. Second, we will use its place id to access to the place details to get the opening hours. "
   ]
  },
  {
   "cell_type": "code",
   "execution_count": 12,
   "metadata": {
    "scrolled": true
   },
   "outputs": [
    {
     "data": {
      "text/plain": [
       "'990 ARCADE ST, SAINT PAUL, 55106, 52 MARKET  AND TRADING'"
      ]
     },
     "execution_count": 12,
     "metadata": {},
     "output_type": "execute_result"
    }
   ],
   "source": [
    "# Try the first query\n",
    "first_ten_data = df2[0:10]\n",
    "first_query = first_ten_data.loc[1, 'address.street']+\", \"+first_ten_data.loc[1, 'address.city']+\", \"+str(first_ten_data.loc[1, 'address.zipCode']) + \", \" + first_ten_data.loc[1, 'name'] # [0, 1, 2, ..., 9]\n",
    "first_query"
   ]
  },
  {
   "cell_type": "code",
   "execution_count": 13,
   "metadata": {},
   "outputs": [],
   "source": [
    "# Get the response of the first query place \n",
    "start_url2 = gmaps_text_url + 'query=' + first_query + '&key=' + my_api_key\n",
    "resp2 = requests.get(start_url2)"
   ]
  },
  {
   "cell_type": "code",
   "execution_count": 14,
   "metadata": {},
   "outputs": [
    {
     "data": {
      "text/plain": [
       "{'html_attributions': [],\n",
       " 'results': [{'business_status': 'OPERATIONAL',\n",
       "   'formatted_address': '990 Arcade St, St Paul, MN 55106, United States',\n",
       "   'geometry': {'location': {'lat': 44.970965, 'lng': -93.0657013},\n",
       "    'viewport': {'northeast': {'lat': 44.97231587989272,\n",
       "      'lng': -93.06449197010728},\n",
       "     'southwest': {'lat': 44.96961622010728, 'lng': -93.06719162989272}}},\n",
       "   'icon': 'https://maps.gstatic.com/mapfiles/place_api/icons/shopping-71.png',\n",
       "   'id': '718848f88e21f46e117c2cee314c981fdfb87ae5',\n",
       "   'name': '52 Market & Trading',\n",
       "   'opening_hours': {'open_now': True},\n",
       "   'photos': [{'height': 3024,\n",
       "     'html_attributions': ['<a href=\"https://maps.google.com/maps/contrib/100652635458176499984\">Noah Vang Channel</a>'],\n",
       "     'photo_reference': 'CmRZAAAAMOZlcM6IOxUfPSfsm9O3QvEy4JwFNK7Ye2lJz21p8j3_GQI8maJYN-tvsGBpOzmgHhGjubX8bhe1XPIHWLIEXFMjMoo63eOX6P6gksPzUt_aX1WJcd628qvUmq1pThpZEhB_FmUjP0nE_1RVYtZCTSr7GhS8ojC7pkmeX8V8s-D5a-fawOIs7A',\n",
       "     'width': 4032}],\n",
       "   'place_id': 'ChIJARxrTiTVslIRJxc4iTkTICg',\n",
       "   'plus_code': {'compound_code': 'XWCM+9P St Paul, Minnesota',\n",
       "    'global_code': '86P8XWCM+9P'},\n",
       "   'rating': 3.8,\n",
       "   'reference': 'ChIJARxrTiTVslIRJxc4iTkTICg',\n",
       "   'types': ['convenience_store',\n",
       "    'food',\n",
       "    'point_of_interest',\n",
       "    'store',\n",
       "    'establishment'],\n",
       "   'user_ratings_total': 20}],\n",
       " 'status': 'OK'}"
      ]
     },
     "execution_count": 14,
     "metadata": {},
     "output_type": "execute_result"
    }
   ],
   "source": [
    "# Display the information of the first query place\n",
    "gmaps_data_1 = resp2.json()\n",
    "gmaps_data_1"
   ]
  },
  {
   "cell_type": "code",
   "execution_count": 15,
   "metadata": {},
   "outputs": [
    {
     "name": "stdout",
     "output_type": "stream",
     "text": [
      "44.970965\n",
      "-93.0657013\n"
     ]
    }
   ],
   "source": [
    "lat_1 = gmaps_data_1['results'][0]['geometry']['location']['lat']\n",
    "lng_1 = gmaps_data_1['results'][0]['geometry']['location']['lng']\n",
    "print(lat_1)\n",
    "print(lng_1)"
   ]
  },
  {
   "cell_type": "markdown",
   "metadata": {},
   "source": [
    "In this case, we use Google Maps text search function to search the store. But text search does not always turn up the right address. Hence, to control the data quality, we set have to set two quality check fields to record the matching address and matching name. If both the matching address and matching name are identical with the address and name on the WIC website, that piece of data is valid. Otherwise, it is invalid. "
   ]
  },
  {
   "cell_type": "code",
   "execution_count": 16,
   "metadata": {},
   "outputs": [
    {
     "name": "stdout",
     "output_type": "stream",
     "text": [
      "990 Arcade St, St Paul, MN 55106, United States\n",
      "52 Market & Trading\n"
     ]
    }
   ],
   "source": [
    "# Get the matching address and the matching name for this query\n",
    "mat_addr_1 = gmaps_data_1['results'][0]['formatted_address']\n",
    "mat_name_1 = gmaps_data_1['results'][0]['name']\n",
    "print(mat_addr_1)\n",
    "print(mat_name_1)"
   ]
  },
  {
   "cell_type": "code",
   "execution_count": 17,
   "metadata": {},
   "outputs": [
    {
     "data": {
      "text/plain": [
       "'ChIJARxrTiTVslIRJxc4iTkTICg'"
      ]
     },
     "execution_count": 17,
     "metadata": {},
     "output_type": "execute_result"
    }
   ],
   "source": [
    "# Get the place id for the first query place\n",
    "gmaps_place_id_1 = gmaps_data_1['results'][0]['place_id']\n",
    "gmaps_place_id_1"
   ]
  },
  {
   "cell_type": "code",
   "execution_count": 18,
   "metadata": {},
   "outputs": [
    {
     "data": {
      "text/plain": [
       "{'html_attributions': [],\n",
       " 'result': {'address_components': [{'long_name': '990',\n",
       "    'short_name': '990',\n",
       "    'types': ['street_number']},\n",
       "   {'long_name': 'Arcade Street',\n",
       "    'short_name': 'Arcade St',\n",
       "    'types': ['route']},\n",
       "   {'long_name': 'Payne - Phalen',\n",
       "    'short_name': 'Payne - Phalen',\n",
       "    'types': ['neighborhood', 'political']},\n",
       "   {'long_name': 'Saint Paul',\n",
       "    'short_name': 'St Paul',\n",
       "    'types': ['locality', 'political']},\n",
       "   {'long_name': 'Ramsey County',\n",
       "    'short_name': 'Ramsey County',\n",
       "    'types': ['administrative_area_level_2', 'political']},\n",
       "   {'long_name': 'Minnesota',\n",
       "    'short_name': 'MN',\n",
       "    'types': ['administrative_area_level_1', 'political']},\n",
       "   {'long_name': 'United States',\n",
       "    'short_name': 'US',\n",
       "    'types': ['country', 'political']},\n",
       "   {'long_name': '55106', 'short_name': '55106', 'types': ['postal_code']},\n",
       "   {'long_name': '3230',\n",
       "    'short_name': '3230',\n",
       "    'types': ['postal_code_suffix']}],\n",
       "  'adr_address': '<span class=\"street-address\">990 Arcade St</span>, <span class=\"locality\">St Paul</span>, <span class=\"region\">MN</span> <span class=\"postal-code\">55106-3230</span>, <span class=\"country-name\">USA</span>',\n",
       "  'business_status': 'OPERATIONAL',\n",
       "  'formatted_address': '990 Arcade St, St Paul, MN 55106, USA',\n",
       "  'formatted_phone_number': '(651) 772-8573',\n",
       "  'geometry': {'location': {'lat': 44.970965, 'lng': -93.0657013},\n",
       "   'viewport': {'northeast': {'lat': 44.9723150302915,\n",
       "     'lng': -93.06449281970849},\n",
       "    'southwest': {'lat': 44.9696170697085, 'lng': -93.06719078029151}}},\n",
       "  'icon': 'https://maps.gstatic.com/mapfiles/place_api/icons/shopping-71.png',\n",
       "  'id': '718848f88e21f46e117c2cee314c981fdfb87ae5',\n",
       "  'international_phone_number': '+1 651-772-8573',\n",
       "  'name': '52 Market & Trading',\n",
       "  'opening_hours': {'open_now': True,\n",
       "   'periods': [{'close': {'day': 0, 'time': '2000'},\n",
       "     'open': {'day': 0, 'time': '0800'}},\n",
       "    {'close': {'day': 1, 'time': '2000'}, 'open': {'day': 1, 'time': '0800'}},\n",
       "    {'close': {'day': 2, 'time': '2000'}, 'open': {'day': 2, 'time': '0800'}},\n",
       "    {'close': {'day': 3, 'time': '2000'}, 'open': {'day': 3, 'time': '0800'}},\n",
       "    {'close': {'day': 4, 'time': '2000'}, 'open': {'day': 4, 'time': '0800'}},\n",
       "    {'close': {'day': 5, 'time': '2000'}, 'open': {'day': 5, 'time': '0800'}},\n",
       "    {'close': {'day': 6, 'time': '2000'}, 'open': {'day': 6, 'time': '0800'}}],\n",
       "   'weekday_text': ['Monday: 8:00 AM – 8:00 PM',\n",
       "    'Tuesday: 8:00 AM – 8:00 PM',\n",
       "    'Wednesday: 8:00 AM – 8:00 PM',\n",
       "    'Thursday: 8:00 AM – 8:00 PM',\n",
       "    'Friday: 8:00 AM – 8:00 PM',\n",
       "    'Saturday: 8:00 AM – 8:00 PM',\n",
       "    'Sunday: 8:00 AM – 8:00 PM']},\n",
       "  'photos': [{'height': 3024,\n",
       "    'html_attributions': ['<a href=\"https://maps.google.com/maps/contrib/100652635458176499984\">Noah Vang Channel</a>'],\n",
       "    'photo_reference': 'CmRZAAAAYvtxowqT1_8oyQZ8Q8xnKlrZn3URHDbNdOx6E3wcbLWL31kqIPMHicPzuHQdRHPwZ9sW5JvYxTWCzDxFlvzdAs_He_gdegZAhqYbaWjR_MXtcvD7YHMwyln3c0hKxJ7mEhDj0ECkABWDPOLYoxHQ8L95GhSWp5ULR6zMGObC3OxUwcMq0tj28A',\n",
       "    'width': 4032},\n",
       "   {'height': 3024,\n",
       "    'html_attributions': ['<a href=\"https://maps.google.com/maps/contrib/100652635458176499984\">Noah Vang Channel</a>'],\n",
       "    'photo_reference': 'CmRZAAAAP-ruNSNF1g-1Q1tIBMtOFVlvCjFGHG6rMJoAS3DSJLA4yG1yEwUIJ42aE0jXd5VRyzMNDDV_Uf6lGI-YrHEiuAjtzGXpXmIDXdn9sUOZkEtWHwKmRRvQT6LarNG41St5EhDkmnAOrK5yS8CM13cZ-wYwGhSoHr952VbNTw2itv2cWybGu5jtWA',\n",
       "    'width': 4032},\n",
       "   {'height': 3024,\n",
       "    'html_attributions': ['<a href=\"https://maps.google.com/maps/contrib/100652635458176499984\">Noah Vang Channel</a>'],\n",
       "    'photo_reference': 'CmRZAAAAvK0fF4F5WlOzOBo6IMD7IWlXUZGF23-ndf5TXLhPBNr6FLwxMKgVy9aGdw50L8bqDFNxtQlpkBiPL6K3vVBUTAKr9MoQpV_HbBav0igRjtPvK8ky1ILnz6XEB2vIcl6PEhCOU9rF47Os5T5d1g9q02srGhQNtCTg3VtaZbS2qD6txJU73D6c6w',\n",
       "    'width': 4032},\n",
       "   {'height': 3024,\n",
       "    'html_attributions': ['<a href=\"https://maps.google.com/maps/contrib/100652635458176499984\">Noah Vang Channel</a>'],\n",
       "    'photo_reference': 'CmRZAAAAwAqznAtHvIKuLPQlc6ZNby5gwQTvFh2IS5_gUNxMGMgc7jPwCtewQh0SwoxC_94AG_eGO7zOo7jiKI87NkG0-_vJfQgKwGVPy_4LJ7mFUSYDu10vhndta9qqsxrlC4wrEhB3OQlpzcGSNrMtnG22Doh6GhQC6Z495Zm8jO_mIrSfTgh_ckwr6g',\n",
       "    'width': 4032},\n",
       "   {'height': 3024,\n",
       "    'html_attributions': ['<a href=\"https://maps.google.com/maps/contrib/100652635458176499984\">Noah Vang Channel</a>'],\n",
       "    'photo_reference': 'CmRZAAAAuoJ8mhMi2p5ST-QHXTgUVq-h2E9hR-EnybjIP-CHvK_cL4HNa9UpEZYelAcm7KS7IgULuoHVChLJw21jX-rmYTxYB1cU11VyEH8raQEkosGuNk7jc45bfEz8Wg4PxhehEhBzzThSviqDjBww07UYAFwLGhQIlJUnSxWhpGJT5dv6VedbDAdcOg',\n",
       "    'width': 4032},\n",
       "   {'height': 1836,\n",
       "    'html_attributions': ['<a href=\"https://maps.google.com/maps/contrib/118388722080700854970\">Khoua Eh Lee</a>'],\n",
       "    'photo_reference': 'CmRaAAAAFmEjDRh1nLLWFwfcGCV30IMRbl4NzMx_1F3xcUh62_n9YDV1cr4ixxS1xWgIL7-w9JtWpsqFx2VkEC8YA7n8-Tfl653ZRkW7QZwzzwcWO5FgetnVYHl4MVBjMLJ9mNY0EhAtxGbbdNH9CYDAJhtoQQU7GhTX9NE85MnjONiDSX1Y8ApFSLMOXw',\n",
       "    'width': 3264},\n",
       "   {'height': 3024,\n",
       "    'html_attributions': ['<a href=\"https://maps.google.com/maps/contrib/100652635458176499984\">Noah Vang Channel</a>'],\n",
       "    'photo_reference': 'CmRZAAAAQs-rrrywUMDcNpN87o9Itqcw7Rop0xHE6_Y2mSpKHzlDOOLwW37ReeiN_oE7dVEVBI1LyJdlIdUHUSd0FHmj9LHzm0OCqFWCEAeCysH0JdAOCJkHKV4sI_quOVt-g5bcEhAw8b66Jop2BFP7oFrkwz-eGhRHX-gM6h-RFxWSnvdV1MAvAcTSCw',\n",
       "    'width': 4032},\n",
       "   {'height': 4032,\n",
       "    'html_attributions': ['<a href=\"https://maps.google.com/maps/contrib/100652635458176499984\">Noah Vang Channel</a>'],\n",
       "    'photo_reference': 'CmRZAAAAFPpjzA1L09FXOUDJHjEuVrpJjCX3WX92F18D4r3oZMYdd9FFdYmbZJLel972VXcXeu9Vt5UDqSYi6v2nh4Wts_tLIYBBnjz2HWnWMpqUHmvmVM3tHVpL5aQhvNkz9kzXEhDziwH8m_w28Ycp8AlUQ-FiGhRaWU8cpjfEMGesglO_9mS0TY6K2Q',\n",
       "    'width': 3024},\n",
       "   {'height': 4032,\n",
       "    'html_attributions': ['<a href=\"https://maps.google.com/maps/contrib/100652635458176499984\">Noah Vang Channel</a>'],\n",
       "    'photo_reference': 'CmRZAAAAxO33squay6Sdc-znIAOV9xu9o5VhwLsmXBS5DInVN4rkVKZodMz8QBBrSCBPQpeyuTcfN_tSMaaRkGIm2bmbm_ZIeokX9jWDHfXtWqafpu_Sw8ApGwU9OGfwj7JjjYOlEhAEvC2MxxrDix05doFVBuPAGhSKeY8hXllU-jiFDc3syEQd0TD2kQ',\n",
       "    'width': 3024},\n",
       "   {'height': 3024,\n",
       "    'html_attributions': ['<a href=\"https://maps.google.com/maps/contrib/100652635458176499984\">Noah Vang Channel</a>'],\n",
       "    'photo_reference': 'CmRZAAAAlQaY0IUF9DEAY2cb4r19ycEmsVBZ6n9OY1gskgM-Cc9fzVtVotXwlfR-ZKA17rbxhgi5nwiek9Fal-lN8UGRmUImgJ9M1-7V9DfEY3ljLmTsesYnkBy180MlH3Dt2D_nEhDMMz5wjuGgXozxWSgpqEliGhTu6OFkKpMbNLhsXJNvrnO5BX2QHQ',\n",
       "    'width': 4032}],\n",
       "  'place_id': 'ChIJARxrTiTVslIRJxc4iTkTICg',\n",
       "  'plus_code': {'compound_code': 'XWCM+9P Saint Paul, Minnesota, United States',\n",
       "   'global_code': '86P8XWCM+9P'},\n",
       "  'rating': 3.8,\n",
       "  'reference': 'ChIJARxrTiTVslIRJxc4iTkTICg',\n",
       "  'reviews': [{'author_name': 'Khoua Eh Lee',\n",
       "    'author_url': 'https://www.google.com/maps/contrib/118388722080700854970/reviews',\n",
       "    'language': 'en',\n",
       "    'profile_photo_url': 'https://lh3.ggpht.com/-OiuIP1AO2xc/AAAAAAAAAAI/AAAAAAAAAAA/gv1vdT3g9eU/s128-c0x00000000-cc-rp-mo-ba5/photo.jpg',\n",
       "    'rating': 5,\n",
       "    'relative_time_description': '9 months ago',\n",
       "    'text': 'A small but super convenient place to get your asian foods and ingredients. I love how tidy this place is. They do have food available to eat on the go as well. Typical hmong food which is good for what it is. We have ordered a few trays of food from here and its always been really good and service from employees are always great! Parking is very small but you can easily park on the street next to the store as well. Come here if youre looking for a very decent  convient asian store!',\n",
       "    'time': 1562982509},\n",
       "   {'author_name': 'Amanda Lor',\n",
       "    'author_url': 'https://www.google.com/maps/contrib/102443818949684030347/reviews',\n",
       "    'language': 'en',\n",
       "    'profile_photo_url': 'https://lh5.ggpht.com/-CKsncKJ3Wp8/AAAAAAAAAAI/AAAAAAAAAAA/K4igBwkCNK4/s128-c0x00000000-cc-rp-mo/photo.jpg',\n",
       "    'rating': 5,\n",
       "    'relative_time_description': '2 months ago',\n",
       "    'text': 'My go-to for eggroll and spring roll catering for the past 4 years.  Friendly staffs and owners.  \\nParking lot is a bit small but there are street parking.',\n",
       "    'time': 1581526826},\n",
       "   {'author_name': 'Gene Peters',\n",
       "    'author_url': 'https://www.google.com/maps/contrib/100770271285657680422/reviews',\n",
       "    'language': 'en',\n",
       "    'profile_photo_url': 'https://lh3.ggpht.com/-YWorOdm0gx4/AAAAAAAAAAI/AAAAAAAAAAA/LAybt7doRwQ/s128-c0x00000000-cc-rp-mo/photo.jpg',\n",
       "    'rating': 5,\n",
       "    'relative_time_description': '7 months ago',\n",
       "    'text': 'The eggrolls are the best in my opinion. Bigger than most as well. Very wonderful service!',\n",
       "    'time': 1569336777},\n",
       "   {'author_name': 'Erika Vang',\n",
       "    'author_url': 'https://www.google.com/maps/contrib/106850665849712716787/reviews',\n",
       "    'language': 'en',\n",
       "    'profile_photo_url': 'https://lh5.ggpht.com/-N3zoNBas1RQ/AAAAAAAAAAI/AAAAAAAAAAA/7-C3nfkQz8c/s128-c0x00000000-cc-rp-mo/photo.jpg',\n",
       "    'rating': 1,\n",
       "    'relative_time_description': '7 months ago',\n",
       "    'text': 'Grocery prices are a bit on the higher end. I got a box of noodles of here for $17.99. I went down the street to Golden Harvest and found the same box of noodles there for $11.99.',\n",
       "    'time': 1568990999},\n",
       "   {'author_name': 'Pao Moua',\n",
       "    'author_url': 'https://www.google.com/maps/contrib/102023464821356573098/reviews',\n",
       "    'language': 'en',\n",
       "    'profile_photo_url': 'https://lh6.ggpht.com/-Esg7fv8AtHg/AAAAAAAAAAI/AAAAAAAAAAA/Io04LYCFoco/s128-c0x00000000-cc-rp-mo-ba6/photo.jpg',\n",
       "    'rating': 3,\n",
       "    'relative_time_description': '8 months ago',\n",
       "    'text': 'Store and everything was good, but the service is not good. Girl sitting in the front did not help us for 5 minutes after we rung the bell and while we stood there waiting to buy food.',\n",
       "    'time': 1566322787}],\n",
       "  'scope': 'GOOGLE',\n",
       "  'types': ['convenience_store',\n",
       "   'food',\n",
       "   'point_of_interest',\n",
       "   'store',\n",
       "   'establishment'],\n",
       "  'url': 'https://maps.google.com/?cid=2891332098608076583',\n",
       "  'user_ratings_total': 20,\n",
       "  'utc_offset': -300,\n",
       "  'vicinity': '990 Arcade Street, Saint Paul'},\n",
       " 'status': 'OK'}"
      ]
     },
     "execution_count": 18,
     "metadata": {},
     "output_type": "execute_result"
    }
   ],
   "source": [
    "# Get the response of the place details search\n",
    "start_url3 = gmaps_details_url+ 'place_id=' + gmaps_place_id_1 + \"&key=\" + my_api_key\n",
    "resp3 = requests.get(start_url3)\n",
    "gmaps_data_details_1 = resp3.json()\n",
    "gmaps_data_details_1"
   ]
  },
  {
   "cell_type": "code",
   "execution_count": 19,
   "metadata": {},
   "outputs": [
    {
     "data": {
      "text/plain": [
       "[{'close': {'day': 0, 'time': '2000'}, 'open': {'day': 0, 'time': '0800'}},\n",
       " {'close': {'day': 1, 'time': '2000'}, 'open': {'day': 1, 'time': '0800'}},\n",
       " {'close': {'day': 2, 'time': '2000'}, 'open': {'day': 2, 'time': '0800'}},\n",
       " {'close': {'day': 3, 'time': '2000'}, 'open': {'day': 3, 'time': '0800'}},\n",
       " {'close': {'day': 4, 'time': '2000'}, 'open': {'day': 4, 'time': '0800'}},\n",
       " {'close': {'day': 5, 'time': '2000'}, 'open': {'day': 5, 'time': '0800'}},\n",
       " {'close': {'day': 6, 'time': '2000'}, 'open': {'day': 6, 'time': '0800'}}]"
      ]
     },
     "execution_count": 19,
     "metadata": {},
     "output_type": "execute_result"
    }
   ],
   "source": [
    "gmaps_data_details_1['result']['opening_hours']['periods']"
   ]
  },
  {
   "cell_type": "code",
   "execution_count": 20,
   "metadata": {},
   "outputs": [
    {
     "data": {
      "text/plain": [
       "['Monday: 8:00 AM – 8:00 PM',\n",
       " 'Tuesday: 8:00 AM – 8:00 PM',\n",
       " 'Wednesday: 8:00 AM – 8:00 PM',\n",
       " 'Thursday: 8:00 AM – 8:00 PM',\n",
       " 'Friday: 8:00 AM – 8:00 PM',\n",
       " 'Saturday: 8:00 AM – 8:00 PM',\n",
       " 'Sunday: 8:00 AM – 8:00 PM']"
      ]
     },
     "execution_count": 20,
     "metadata": {},
     "output_type": "execute_result"
    }
   ],
   "source": [
    "gmaps_data_details_1['result']['opening_hours']['weekday_text']"
   ]
  },
  {
   "cell_type": "markdown",
   "metadata": {},
   "source": [
    "Compare the two code blocks above, we can see that, in the  data structure of the Google Maps opening hours, day_0, day_1 ..., day_6 represents Sunday, Monday, ..., Saturday, respectively. "
   ]
  },
  {
   "cell_type": "code",
   "execution_count": 21,
   "metadata": {},
   "outputs": [
    {
     "name": "stdout",
     "output_type": "stream",
     "text": [
      "['0800', '2000', '0800', '2000', '0800', '2000', '0800', '2000', '0800', '2000', '0800', '2000', '0800', '2000']\n"
     ]
    }
   ],
   "source": [
    "# Get the 'time' value of the second grocery store and store them in a list\n",
    "vals_1 = []\n",
    "for i in range(7):\n",
    "    data_1_close = gmaps_data_details_1['result']['opening_hours']['periods'][i]['close']['time']\n",
    "    data_1_open = gmaps_data_details_1['result']['opening_hours']['periods'][i]['open']['time']\n",
    "    vals_1.append(data_1_open)\n",
    "    vals_1.append(data_1_close)\n",
    "print(vals_1)"
   ]
  },
  {
   "cell_type": "markdown",
   "metadata": {},
   "source": [
    "## Part 3: Traverse the data list to get the a week's opening hours of each store"
   ]
  },
  {
   "cell_type": "markdown",
   "metadata": {},
   "source": [
    "We successfully get the opening hours of \"33RD MEAT & GROCERY\" in Part 2. This part we will create a nested \"for\" loop to access the opening hours of every grocery store. Here we break down the grocery stores by pages and then iterate through every ten record to get the information of each store. "
   ]
  },
  {
   "cell_type": "code",
   "execution_count": 57,
   "metadata": {},
   "outputs": [],
   "source": [
    "# Create 14 new columns to store open and close time from Sunday to Saturday\n",
    "new_cols = ['DAY0_OPEN', 'DAY0_CLOSE', \n",
    "            'DAY1_OPEN', 'DAY1_CLOSE', \n",
    "            'DAY2_OPEN', 'DAY2_CLOSE',\n",
    "            'DAY3_OPEN', 'DAY3_CLOSE',\n",
    "            'DAY4_OPEN', 'DAY4_CLOSE',\n",
    "            'DAY5_OPEN', 'DAY5_CLOSE',\n",
    "            'DAY6_OPEN', 'DAY6_CLOSE']"
   ]
  },
  {
   "cell_type": "code",
   "execution_count": 58,
   "metadata": {},
   "outputs": [],
   "source": [
    "# Create 2 new columns to store matching address\n",
    "match_cols = ['match_address', 'match_name']"
   ]
  },
  {
   "cell_type": "code",
   "execution_count": 59,
   "metadata": {},
   "outputs": [],
   "source": [
    "# Copy the dataframe \"df2\" into dataframe \"df3\" to reset its row index\n",
    "df3 = df2.reset_index(drop=True)"
   ]
  },
  {
   "cell_type": "code",
   "execution_count": 60,
   "metadata": {},
   "outputs": [],
   "source": [
    "# Assign basic indices to variables.  \n",
    "record_count = len(df3) "
   ]
  },
  {
   "cell_type": "code",
   "execution_count": 61,
   "metadata": {},
   "outputs": [],
   "source": [
    "new_vals = [] # Create a list to store opening and closing hours\n",
    "mat_addr_list = [] # Create a list to matching address\n",
    "mat_name_list = [] # Create a list to store matching name"
   ]
  },
  {
   "cell_type": "code",
   "execution_count": 62,
   "metadata": {},
   "outputs": [],
   "source": [
    "for index in range(record_count):\n",
    "    if '#' in df3.at[index,'name'] != None:\n",
    "        df3.loc[index,'name'] = df3.at[index,'name'].split('#')[0]"
   ]
  },
  {
   "cell_type": "code",
   "execution_count": 63,
   "metadata": {},
   "outputs": [
    {
     "name": "stdout",
     "output_type": "stream",
     "text": [
      "['0700', '2030', '0700', '2030', '0700', '2030', '0700', '2030', '0700', '2030', '0700', '2030', '0700', '2030', '0700', '2030', '0700', '2030', '0700', '2030', '0700', '2030', '0700', '2030', '0700', '2030', '0700', '2030', '0700', '2030', '0700', '2030', '0700', '2030', '0700', '2030', '0700', '2030', '0700', '2030', '0700', '2030', '0700', '2030', '0700', '2030', '0700', '2030', '0700', '2030', '0700', '2030', '0700', '2030', '0700', '2030', '1000', '1600', '0900', '1900', '0600', '1900', '0900', '1900', '0900', '1900', '0900', '1900', '0900', '1700', '0700', '2030', '0700', '2030', '0700', '2030', '0700', '2030', '0700', '2030', '0700', '2030', '0700', '2030', '0700', '2030', '0700', '2030', '0700', '2030', '0700', '2030', '0700', '2030', '0700', '2030', '0700', '2030', '0700', '2030', '0700', '2030', '0700', '2030', '0700', '2030', '0700', '2030', '0700', '2030', '0700', '2030', '0700', '2030', '0700', '2030', '0700', '2030', '0700', '2030', '0700', '2030', '0700', '2030', '0700', '2030', '0700', '2030', '0700', '2030', '0700', '2030', '0700', '2030', '0700', '2030', '0700', '2030', '0700', '2030', '0700', '2030', '0700', '2030', '0700', '2030', '0700', '2030', '0700', '2030', '0700', '2030', '0700', '2030', '0700', '2030', '0700', '2030', '0700', '2030', '0700', '2030', '0700', '2030', '0700', '2030', '0700', '2030', '1100', '2200', '0900', '2200', '0900', '2200', '0900', '2200', '0900', '2200', '0900', '2200', '1000', '2200', '0800', '2100', '0800', '2100', '0800', '2100', '0800', '2100', '0800', '2100', '0800', '2100', '0800', '2100', '0700', '1800', '0700', '2100', '0700', '2100', '0700', '2100', '0700', '2100', '0700', '2100', '0700', '2100', '0900', '2100', '0900', '2100', '0900', '2100', '0900', '2100', '0900', '2100', '0900', '2100', '0900', '2100', '0900', '1900', '0900', '1900', '0900', '1900', '0900', '1900', '0900', '1900', '0900', '1900', '0900', '1900', '0900', '1900', '0900', '1900', '0900', '1900', '0900', '1900', '0900', '1900', '0900', '1900', '0900', '1900', '1000', '1500', '0700', '1900', '0700', '1900', '0700', '1900', '0700', '1900', '0700', '1900', '0700', '1800', 'NaN', 'NaN', 'NaN', 'NaN', 'NaN', 'NaN', 'NaN', 'NaN', 'NaN', 'NaN', 'NaN', 'NaN', 'NaN', 'NaN', '0800', '2200', '0800', '2200', '0800', '2200', '0800', '2200', '0800', '2200', '0800', '2200', '0800', '2200', '0800', '1900', '0800', '1900', '0800', '1900', '0800', '1900', '0800', '1900', '0800', '1900', 'NaN', 'NaN', '0700', '2100', '0700', '2100', '0700', '2100', '0700', '2100', '0700', '2100', '0700', '2100', '0700', '2100', 'NaN', 'NaN', 'NaN', 'NaN', 'NaN', 'NaN', 'NaN', 'NaN', 'NaN', 'NaN', 'NaN', 'NaN', 'NaN', 'NaN', '1000', '2200', '1000', '2200', '1000', '2200', '1000', '2200', '1000', '2200', '1000', '2200', '1000', '2200', '0800', '1300', '0700', '1800', '0700', '1800', '0700', '1800', '0700', '1800', '0700', '1800', '0730', '2000', '0700', '1500', '0700', '1900', '0700', '1900', '0700', '1900', '0700', '1900', '0700', '1900', '0700', '1900', 'NaN', 'NaN', 'NaN', 'NaN', 'NaN', 'NaN', 'NaN', 'NaN', 'NaN', 'NaN', 'NaN', 'NaN', 'NaN', 'NaN', '0800', '1500', '0800', '1900', '0800', '1900', '0800', '1900', '0800', '1900', '0800', '1900', '0800', '1800', '0700', '1800', '0700', '1900', '0700', '1900', '0700', '1900', '0700', '1900', '0700', '1900', '0700', '1900', '0900', '1600', '0800', '1900', '0800', '1900', '0800', '1900', '0800', '1900', '0800', '1900', '0800', '1900']\n",
      "['1303 Charles St, Park Rapids, MN 56470, United States', '100 Juniper Ave, Wadena, MN 56482, United States', '205 12th St S, Sauk Centre, MN 56378, United States', '1000 18th Ave NW, Austin, MN 55912, United States', '2301 E Frontage Rd, Litchfield, MN 55355, United States', '8580 Rock Ridge Dr, Mountain Iron, MN 55768, United States', '955 Frontenac Dr, Winona, MN 55987, United States', '1200 Shingle Creek Crossing, Brooklyn Center, MN 55430, United States', '11505 Ulysses St NE, Blaine, MN 55434, United States', '12200 River Ridge Blvd, Burnsville, MN 55337, United States', '20710 Keokuk Ave, Lakeville, MN 55044, United States', '1130 W Frontage Rd W, Owatonna, MN 55060, United States', '1701 N 44th Ave, Minneapolis, MN 55412, United States', '2105 Lyndale Ave S, Minneapolis, MN 55405, United States', '190 3rd St NE, Wells, MN 56097, United States', '466 S Robert St, St Paul, MN 55107, United States', '610 E 4th St, Duluth, MN 55805, United States', '4426 Grand Ave, Duluth, MN 55807, United States', '905 Broadway, Wheaton, MN 56296, United States', '1510 US-2, Bena, MN 56626, United States', '864 Rice St, St Paul, MN 55117, United States', '104 Main St N, Winthrop, MN 55396, United States', '4020 Woodland Ave, Duluth, MN 55803, United States', '604 Western Ave N, St Paul, MN 55103, USA', '741 Edmund Ave W, St Paul, MN 55104, United States', '155 Hill Ave S, Middle River, MN 56737, United States', '315 Main St, Tower, MN 55790, United States', '201 US-53, Cook, MN 55723, United States', '31 Central Blvd STE 100, Babbitt, MN 55706, United States', '303 E Sheridan St, Ely, MN 55731, United States', '4, Shopping Center Rd, Silver Bay, MN 55614, United States']\n",
      "['Walmart Supercenter', 'Walmart Supercenter', 'Walmart Supercenter', 'Walmart Supercenter', 'Walmart Pharmacy', 'Walmart Supercenter', 'Walmart Supercenter', 'Walmart Supercenter', 'Walmart Supercenter', 'Walmart Supercenter', 'Walmart Supercenter', 'Walmart Supercenter', 'Webber Mart', 'Wedge Community Co-op', 'Wells Marketplace', 'West Side Grocery', 'Whole Foods Co-op', 'Whole Foods Co-op Denfeld', 'SUPERVALU', 'Big Winnie Store RV Park & Campground', 'Winnipeg Grocery', 'Winthrop Market, LLC', 'Woodland Marketplace Foods', '604 Western Ave N', 'Yasem Food Market', \"Young's General Store Inc\", \"Zup's Food Market\", \"Zup's Food Market of Cook\", \"Zup's Food Market\", \"Zup's Food Market\", \"Zup's Food Market\"]\n"
     ]
    }
   ],
   "source": [
    "# iterate through the index of each store in the dataframe \n",
    "for index in range(800,831): # which is supposed to be record_count !!!! \n",
    "    query = df3.at[index,'address.street'] + ', ' + df3.at[index,'address.city']+ ', ' + str(df3.at[index,'address.zipCode'])+ ', ' + df3.at[index,'name']\n",
    "    gmaps_search_url = gmaps_text_url + 'query=' + query + '&key=' + my_api_key\n",
    "    gmaps_search_resp = requests.get(gmaps_search_url)\n",
    "    gmaps_place_data = gmaps_search_resp.json()\n",
    "        \n",
    "    # If there's no match on the Google maps, we fill the dataframe with \"NaN\"\n",
    "    if gmaps_place_data['status'] == 'ZERO_RESULTS':\n",
    "        new_vals.extend(['NaN', 'NaN', 'NaN', 'NaN', 'NaN', 'NaN', 'NaN', 'NaN', 'NaN', 'NaN', 'NaN', 'NaN', 'NaN', 'NaN'])\n",
    "        mat_addr_list.append('NaN')\n",
    "        mat_name_list.append('NaN')\n",
    "    \n",
    "    # If there is a match result by searching the store address and name:\n",
    "    else:\n",
    "        \n",
    "        # Try to use its place id to get the opening hours. Also, get the match name and match address\n",
    "        try:\n",
    "            gmaps_place_id = gmaps_place_data['results'][0]['place_id']\n",
    "            matching_addr = gmaps_place_data['results'][0]['formatted_address']\n",
    "            mat_addr_list.append(matching_addr)\n",
    "            matching_name = gmaps_place_data['results'][0]['name']\n",
    "            mat_name_list.append(matching_name) \n",
    "            gmaps_placedetails_url = gmaps_details_url+ 'place_id=' + gmaps_place_id + \"&key=\" + my_api_key\n",
    "            gmaps_placedetails_resp = requests.get(gmaps_placedetails_url)\n",
    "            gmaps_placedetails = gmaps_placedetails_resp.json()\n",
    "            for i in range(7):               \n",
    "                try:\n",
    "                    \n",
    "                    # If the store is open 24 hours every day, fill the time cells with '0000' \n",
    "                    if gmaps_placedetails['result']['opening_hours']['periods'][0] == {'open': {'day': 0, 'time': '0000'}}:\n",
    "                        new_vals.extend(['0000', '0000'])\n",
    "                    \n",
    "                    # If the store has regular opening and closing time, get the time\n",
    "                    else:\n",
    "                        data_open = gmaps_placedetails['result']['opening_hours']['periods'][i]['open']['time']\n",
    "                        data_close = gmaps_placedetails['result']['opening_hours']['periods'][i]['close']['time']\n",
    "                        new_vals.append(data_open)\n",
    "                        new_vals.append(data_close)\n",
    "\n",
    "                # If the opening hours for the matched store is not available, we fill the dataframe cells with \"NaN\"\n",
    "                except:\n",
    "                    new_vals.extend(['NaN', 'NaN'])\n",
    "        \n",
    "        # For some reason, the place id of some stores are not available. If so, fill the dataframe with \"NaN\" \n",
    "        except: \n",
    "            new_vals.extend(['NaN', 'NaN', 'NaN', 'NaN', 'NaN', 'NaN', 'NaN', 'NaN', 'NaN', 'NaN', 'NaN', 'NaN', 'NaN', 'NaN'])\n",
    "            mat_addr_list.append('NaN')\n",
    "            mat_name_list.append('NaN')\n",
    "\n",
    "# Take a look at our data\n",
    "print(new_vals)\n",
    "print(mat_addr_list)\n",
    "print(mat_name_list)"
   ]
  },
  {
   "cell_type": "code",
   "execution_count": 64,
   "metadata": {},
   "outputs": [
    {
     "name": "stdout",
     "output_type": "stream",
     "text": [
      "434\n",
      "31\n",
      "31\n"
     ]
    }
   ],
   "source": [
    "# Check the number of our data\n",
    "print(len(new_vals))\n",
    "print(len(mat_addr_list))\n",
    "print(len(mat_name_list))"
   ]
  },
  {
   "cell_type": "code",
   "execution_count": 65,
   "metadata": {},
   "outputs": [
    {
     "name": "stdout",
     "output_type": "stream",
     "text": [
      "[['0700', '2030', '0700', '2030', '0700', '2030', '0700', '2030', '0700', '2030', '0700', '2030', '0700', '2030'], ['0700', '2030', '0700', '2030', '0700', '2030', '0700', '2030', '0700', '2030', '0700', '2030', '0700', '2030'], ['0700', '2030', '0700', '2030', '0700', '2030', '0700', '2030', '0700', '2030', '0700', '2030', '0700', '2030'], ['0700', '2030', '0700', '2030', '0700', '2030', '0700', '2030', '0700', '2030', '0700', '2030', '0700', '2030'], ['1000', '1600', '0900', '1900', '0600', '1900', '0900', '1900', '0900', '1900', '0900', '1900', '0900', '1700'], ['0700', '2030', '0700', '2030', '0700', '2030', '0700', '2030', '0700', '2030', '0700', '2030', '0700', '2030'], ['0700', '2030', '0700', '2030', '0700', '2030', '0700', '2030', '0700', '2030', '0700', '2030', '0700', '2030'], ['0700', '2030', '0700', '2030', '0700', '2030', '0700', '2030', '0700', '2030', '0700', '2030', '0700', '2030'], ['0700', '2030', '0700', '2030', '0700', '2030', '0700', '2030', '0700', '2030', '0700', '2030', '0700', '2030'], ['0700', '2030', '0700', '2030', '0700', '2030', '0700', '2030', '0700', '2030', '0700', '2030', '0700', '2030'], ['0700', '2030', '0700', '2030', '0700', '2030', '0700', '2030', '0700', '2030', '0700', '2030', '0700', '2030'], ['0700', '2030', '0700', '2030', '0700', '2030', '0700', '2030', '0700', '2030', '0700', '2030', '0700', '2030'], ['1100', '2200', '0900', '2200', '0900', '2200', '0900', '2200', '0900', '2200', '0900', '2200', '1000', '2200'], ['0800', '2100', '0800', '2100', '0800', '2100', '0800', '2100', '0800', '2100', '0800', '2100', '0800', '2100'], ['0700', '1800', '0700', '2100', '0700', '2100', '0700', '2100', '0700', '2100', '0700', '2100', '0700', '2100'], ['0900', '2100', '0900', '2100', '0900', '2100', '0900', '2100', '0900', '2100', '0900', '2100', '0900', '2100'], ['0900', '1900', '0900', '1900', '0900', '1900', '0900', '1900', '0900', '1900', '0900', '1900', '0900', '1900'], ['0900', '1900', '0900', '1900', '0900', '1900', '0900', '1900', '0900', '1900', '0900', '1900', '0900', '1900'], ['1000', '1500', '0700', '1900', '0700', '1900', '0700', '1900', '0700', '1900', '0700', '1900', '0700', '1800'], ['NaN', 'NaN', 'NaN', 'NaN', 'NaN', 'NaN', 'NaN', 'NaN', 'NaN', 'NaN', 'NaN', 'NaN', 'NaN', 'NaN'], ['0800', '2200', '0800', '2200', '0800', '2200', '0800', '2200', '0800', '2200', '0800', '2200', '0800', '2200'], ['0800', '1900', '0800', '1900', '0800', '1900', '0800', '1900', '0800', '1900', '0800', '1900', 'NaN', 'NaN'], ['0700', '2100', '0700', '2100', '0700', '2100', '0700', '2100', '0700', '2100', '0700', '2100', '0700', '2100'], ['NaN', 'NaN', 'NaN', 'NaN', 'NaN', 'NaN', 'NaN', 'NaN', 'NaN', 'NaN', 'NaN', 'NaN', 'NaN', 'NaN'], ['1000', '2200', '1000', '2200', '1000', '2200', '1000', '2200', '1000', '2200', '1000', '2200', '1000', '2200'], ['0800', '1300', '0700', '1800', '0700', '1800', '0700', '1800', '0700', '1800', '0700', '1800', '0730', '2000'], ['0700', '1500', '0700', '1900', '0700', '1900', '0700', '1900', '0700', '1900', '0700', '1900', '0700', '1900'], ['NaN', 'NaN', 'NaN', 'NaN', 'NaN', 'NaN', 'NaN', 'NaN', 'NaN', 'NaN', 'NaN', 'NaN', 'NaN', 'NaN'], ['0800', '1500', '0800', '1900', '0800', '1900', '0800', '1900', '0800', '1900', '0800', '1900', '0800', '1800'], ['0700', '1800', '0700', '1900', '0700', '1900', '0700', '1900', '0700', '1900', '0700', '1900', '0700', '1900'], ['0900', '1600', '0800', '1900', '0800', '1900', '0800', '1900', '0800', '1900', '0800', '1900', '0800', '1900']]\n"
     ]
    }
   ],
   "source": [
    "# Slice the data list at every 14th time record (2 time information * 7 days)\n",
    "chunks = [new_vals[x:x+14] for x in range(0, len(new_vals), 14)]\n",
    "print(chunks)"
   ]
  },
  {
   "cell_type": "code",
   "execution_count": 66,
   "metadata": {},
   "outputs": [
    {
     "name": "stdout",
     "output_type": "stream",
     "text": [
      "  DAY0_OPEN DAY0_CLOSE DAY1_OPEN DAY1_CLOSE DAY2_OPEN DAY2_CLOSE DAY3_OPEN  \\\n",
      "0      0700       2030      0700       2030      0700       2030      0700   \n",
      "0      0700       2030      0700       2030      0700       2030      0700   \n",
      "0      0700       2030      0700       2030      0700       2030      0700   \n",
      "0      0700       2030      0700       2030      0700       2030      0700   \n",
      "0      1000       1600      0900       1900      0600       1900      0900   \n",
      "0      0700       2030      0700       2030      0700       2030      0700   \n",
      "0      0700       2030      0700       2030      0700       2030      0700   \n",
      "0      0700       2030      0700       2030      0700       2030      0700   \n",
      "0      0700       2030      0700       2030      0700       2030      0700   \n",
      "0      0700       2030      0700       2030      0700       2030      0700   \n",
      "0      0700       2030      0700       2030      0700       2030      0700   \n",
      "0      0700       2030      0700       2030      0700       2030      0700   \n",
      "0      1100       2200      0900       2200      0900       2200      0900   \n",
      "0      0800       2100      0800       2100      0800       2100      0800   \n",
      "0      0700       1800      0700       2100      0700       2100      0700   \n",
      "0      0900       2100      0900       2100      0900       2100      0900   \n",
      "0      0900       1900      0900       1900      0900       1900      0900   \n",
      "0      0900       1900      0900       1900      0900       1900      0900   \n",
      "0      1000       1500      0700       1900      0700       1900      0700   \n",
      "0       NaN        NaN       NaN        NaN       NaN        NaN       NaN   \n",
      "0      0800       2200      0800       2200      0800       2200      0800   \n",
      "0      0800       1900      0800       1900      0800       1900      0800   \n",
      "0      0700       2100      0700       2100      0700       2100      0700   \n",
      "0       NaN        NaN       NaN        NaN       NaN        NaN       NaN   \n",
      "0      1000       2200      1000       2200      1000       2200      1000   \n",
      "0      0800       1300      0700       1800      0700       1800      0700   \n",
      "0      0700       1500      0700       1900      0700       1900      0700   \n",
      "0       NaN        NaN       NaN        NaN       NaN        NaN       NaN   \n",
      "0      0800       1500      0800       1900      0800       1900      0800   \n",
      "0      0700       1800      0700       1900      0700       1900      0700   \n",
      "0      0900       1600      0800       1900      0800       1900      0800   \n",
      "\n",
      "  DAY3_CLOSE DAY4_OPEN DAY4_CLOSE DAY5_OPEN DAY5_CLOSE DAY6_OPEN DAY6_CLOSE  \n",
      "0       2030      0700       2030      0700       2030      0700       2030  \n",
      "0       2030      0700       2030      0700       2030      0700       2030  \n",
      "0       2030      0700       2030      0700       2030      0700       2030  \n",
      "0       2030      0700       2030      0700       2030      0700       2030  \n",
      "0       1900      0900       1900      0900       1900      0900       1700  \n",
      "0       2030      0700       2030      0700       2030      0700       2030  \n",
      "0       2030      0700       2030      0700       2030      0700       2030  \n",
      "0       2030      0700       2030      0700       2030      0700       2030  \n",
      "0       2030      0700       2030      0700       2030      0700       2030  \n",
      "0       2030      0700       2030      0700       2030      0700       2030  \n",
      "0       2030      0700       2030      0700       2030      0700       2030  \n",
      "0       2030      0700       2030      0700       2030      0700       2030  \n",
      "0       2200      0900       2200      0900       2200      1000       2200  \n",
      "0       2100      0800       2100      0800       2100      0800       2100  \n",
      "0       2100      0700       2100      0700       2100      0700       2100  \n",
      "0       2100      0900       2100      0900       2100      0900       2100  \n",
      "0       1900      0900       1900      0900       1900      0900       1900  \n",
      "0       1900      0900       1900      0900       1900      0900       1900  \n",
      "0       1900      0700       1900      0700       1900      0700       1800  \n",
      "0        NaN       NaN        NaN       NaN        NaN       NaN        NaN  \n",
      "0       2200      0800       2200      0800       2200      0800       2200  \n",
      "0       1900      0800       1900      0800       1900       NaN        NaN  \n",
      "0       2100      0700       2100      0700       2100      0700       2100  \n",
      "0        NaN       NaN        NaN       NaN        NaN       NaN        NaN  \n",
      "0       2200      1000       2200      1000       2200      1000       2200  \n",
      "0       1800      0700       1800      0700       1800      0730       2000  \n",
      "0       1900      0700       1900      0700       1900      0700       1900  \n",
      "0        NaN       NaN        NaN       NaN        NaN       NaN        NaN  \n",
      "0       1900      0800       1900      0800       1900      0800       1800  \n",
      "0       1900      0700       1900      0700       1900      0700       1900  \n",
      "0       1900      0800       1900      0800       1900      0800       1900  \n"
     ]
    }
   ],
   "source": [
    "# Construct a dataframe using the columns created before\n",
    "# Store every 14 records into a row\n",
    "df5 = pd.DataFrame()\n",
    "for i in range(len(chunks)):\n",
    "    df4 = pd.DataFrame([chunks[i]], columns=new_cols) \n",
    "    df5 = df5.append(df4)\n",
    "print(df5)"
   ]
  },
  {
   "cell_type": "code",
   "execution_count": 67,
   "metadata": {},
   "outputs": [],
   "source": [
    "# Copy the dataframe \"df5\" into dataframe \"df6\" to reset its row index\n",
    "# This step is for concatenate two dataframes along the column, too\n",
    "df6 = df5.reset_index(drop=True)"
   ]
  },
  {
   "cell_type": "code",
   "execution_count": 68,
   "metadata": {},
   "outputs": [
    {
     "data": {
      "text/html": [
       "<div>\n",
       "<style scoped>\n",
       "    .dataframe tbody tr th:only-of-type {\n",
       "        vertical-align: middle;\n",
       "    }\n",
       "\n",
       "    .dataframe tbody tr th {\n",
       "        vertical-align: top;\n",
       "    }\n",
       "\n",
       "    .dataframe thead th {\n",
       "        text-align: right;\n",
       "    }\n",
       "</style>\n",
       "<table border=\"1\" class=\"dataframe\">\n",
       "  <thead>\n",
       "    <tr style=\"text-align: right;\">\n",
       "      <th></th>\n",
       "      <th>match_address</th>\n",
       "      <th>match_name</th>\n",
       "    </tr>\n",
       "  </thead>\n",
       "  <tbody>\n",
       "    <tr>\n",
       "      <td>0</td>\n",
       "      <td>1303 Charles St, Park Rapids, MN 56470, United...</td>\n",
       "      <td>Walmart Supercenter</td>\n",
       "    </tr>\n",
       "    <tr>\n",
       "      <td>1</td>\n",
       "      <td>100 Juniper Ave, Wadena, MN 56482, United States</td>\n",
       "      <td>Walmart Supercenter</td>\n",
       "    </tr>\n",
       "    <tr>\n",
       "      <td>2</td>\n",
       "      <td>205 12th St S, Sauk Centre, MN 56378, United S...</td>\n",
       "      <td>Walmart Supercenter</td>\n",
       "    </tr>\n",
       "    <tr>\n",
       "      <td>3</td>\n",
       "      <td>1000 18th Ave NW, Austin, MN 55912, United States</td>\n",
       "      <td>Walmart Supercenter</td>\n",
       "    </tr>\n",
       "    <tr>\n",
       "      <td>4</td>\n",
       "      <td>2301 E Frontage Rd, Litchfield, MN 55355, Unit...</td>\n",
       "      <td>Walmart Pharmacy</td>\n",
       "    </tr>\n",
       "    <tr>\n",
       "      <td>5</td>\n",
       "      <td>8580 Rock Ridge Dr, Mountain Iron, MN 55768, U...</td>\n",
       "      <td>Walmart Supercenter</td>\n",
       "    </tr>\n",
       "    <tr>\n",
       "      <td>6</td>\n",
       "      <td>955 Frontenac Dr, Winona, MN 55987, United States</td>\n",
       "      <td>Walmart Supercenter</td>\n",
       "    </tr>\n",
       "    <tr>\n",
       "      <td>7</td>\n",
       "      <td>1200 Shingle Creek Crossing, Brooklyn Center, ...</td>\n",
       "      <td>Walmart Supercenter</td>\n",
       "    </tr>\n",
       "    <tr>\n",
       "      <td>8</td>\n",
       "      <td>11505 Ulysses St NE, Blaine, MN 55434, United ...</td>\n",
       "      <td>Walmart Supercenter</td>\n",
       "    </tr>\n",
       "    <tr>\n",
       "      <td>9</td>\n",
       "      <td>12200 River Ridge Blvd, Burnsville, MN 55337, ...</td>\n",
       "      <td>Walmart Supercenter</td>\n",
       "    </tr>\n",
       "    <tr>\n",
       "      <td>10</td>\n",
       "      <td>20710 Keokuk Ave, Lakeville, MN 55044, United ...</td>\n",
       "      <td>Walmart Supercenter</td>\n",
       "    </tr>\n",
       "    <tr>\n",
       "      <td>11</td>\n",
       "      <td>1130 W Frontage Rd W, Owatonna, MN 55060, Unit...</td>\n",
       "      <td>Walmart Supercenter</td>\n",
       "    </tr>\n",
       "    <tr>\n",
       "      <td>12</td>\n",
       "      <td>1701 N 44th Ave, Minneapolis, MN 55412, United...</td>\n",
       "      <td>Webber Mart</td>\n",
       "    </tr>\n",
       "    <tr>\n",
       "      <td>13</td>\n",
       "      <td>2105 Lyndale Ave S, Minneapolis, MN 55405, Uni...</td>\n",
       "      <td>Wedge Community Co-op</td>\n",
       "    </tr>\n",
       "    <tr>\n",
       "      <td>14</td>\n",
       "      <td>190 3rd St NE, Wells, MN 56097, United States</td>\n",
       "      <td>Wells Marketplace</td>\n",
       "    </tr>\n",
       "    <tr>\n",
       "      <td>15</td>\n",
       "      <td>466 S Robert St, St Paul, MN 55107, United States</td>\n",
       "      <td>West Side Grocery</td>\n",
       "    </tr>\n",
       "    <tr>\n",
       "      <td>16</td>\n",
       "      <td>610 E 4th St, Duluth, MN 55805, United States</td>\n",
       "      <td>Whole Foods Co-op</td>\n",
       "    </tr>\n",
       "    <tr>\n",
       "      <td>17</td>\n",
       "      <td>4426 Grand Ave, Duluth, MN 55807, United States</td>\n",
       "      <td>Whole Foods Co-op Denfeld</td>\n",
       "    </tr>\n",
       "    <tr>\n",
       "      <td>18</td>\n",
       "      <td>905 Broadway, Wheaton, MN 56296, United States</td>\n",
       "      <td>SUPERVALU</td>\n",
       "    </tr>\n",
       "    <tr>\n",
       "      <td>19</td>\n",
       "      <td>1510 US-2, Bena, MN 56626, United States</td>\n",
       "      <td>Big Winnie Store RV Park &amp; Campground</td>\n",
       "    </tr>\n",
       "    <tr>\n",
       "      <td>20</td>\n",
       "      <td>864 Rice St, St Paul, MN 55117, United States</td>\n",
       "      <td>Winnipeg Grocery</td>\n",
       "    </tr>\n",
       "    <tr>\n",
       "      <td>21</td>\n",
       "      <td>104 Main St N, Winthrop, MN 55396, United States</td>\n",
       "      <td>Winthrop Market, LLC</td>\n",
       "    </tr>\n",
       "    <tr>\n",
       "      <td>22</td>\n",
       "      <td>4020 Woodland Ave, Duluth, MN 55803, United St...</td>\n",
       "      <td>Woodland Marketplace Foods</td>\n",
       "    </tr>\n",
       "    <tr>\n",
       "      <td>23</td>\n",
       "      <td>604 Western Ave N, St Paul, MN 55103, USA</td>\n",
       "      <td>604 Western Ave N</td>\n",
       "    </tr>\n",
       "    <tr>\n",
       "      <td>24</td>\n",
       "      <td>741 Edmund Ave W, St Paul, MN 55104, United St...</td>\n",
       "      <td>Yasem Food Market</td>\n",
       "    </tr>\n",
       "    <tr>\n",
       "      <td>25</td>\n",
       "      <td>155 Hill Ave S, Middle River, MN 56737, United...</td>\n",
       "      <td>Young's General Store Inc</td>\n",
       "    </tr>\n",
       "    <tr>\n",
       "      <td>26</td>\n",
       "      <td>315 Main St, Tower, MN 55790, United States</td>\n",
       "      <td>Zup's Food Market</td>\n",
       "    </tr>\n",
       "    <tr>\n",
       "      <td>27</td>\n",
       "      <td>201 US-53, Cook, MN 55723, United States</td>\n",
       "      <td>Zup's Food Market of Cook</td>\n",
       "    </tr>\n",
       "    <tr>\n",
       "      <td>28</td>\n",
       "      <td>31 Central Blvd STE 100, Babbitt, MN 55706, Un...</td>\n",
       "      <td>Zup's Food Market</td>\n",
       "    </tr>\n",
       "    <tr>\n",
       "      <td>29</td>\n",
       "      <td>303 E Sheridan St, Ely, MN 55731, United States</td>\n",
       "      <td>Zup's Food Market</td>\n",
       "    </tr>\n",
       "    <tr>\n",
       "      <td>30</td>\n",
       "      <td>4, Shopping Center Rd, Silver Bay, MN 55614, U...</td>\n",
       "      <td>Zup's Food Market</td>\n",
       "    </tr>\n",
       "  </tbody>\n",
       "</table>\n",
       "</div>"
      ],
      "text/plain": [
       "                                        match_address  \\\n",
       "0   1303 Charles St, Park Rapids, MN 56470, United...   \n",
       "1    100 Juniper Ave, Wadena, MN 56482, United States   \n",
       "2   205 12th St S, Sauk Centre, MN 56378, United S...   \n",
       "3   1000 18th Ave NW, Austin, MN 55912, United States   \n",
       "4   2301 E Frontage Rd, Litchfield, MN 55355, Unit...   \n",
       "5   8580 Rock Ridge Dr, Mountain Iron, MN 55768, U...   \n",
       "6   955 Frontenac Dr, Winona, MN 55987, United States   \n",
       "7   1200 Shingle Creek Crossing, Brooklyn Center, ...   \n",
       "8   11505 Ulysses St NE, Blaine, MN 55434, United ...   \n",
       "9   12200 River Ridge Blvd, Burnsville, MN 55337, ...   \n",
       "10  20710 Keokuk Ave, Lakeville, MN 55044, United ...   \n",
       "11  1130 W Frontage Rd W, Owatonna, MN 55060, Unit...   \n",
       "12  1701 N 44th Ave, Minneapolis, MN 55412, United...   \n",
       "13  2105 Lyndale Ave S, Minneapolis, MN 55405, Uni...   \n",
       "14      190 3rd St NE, Wells, MN 56097, United States   \n",
       "15  466 S Robert St, St Paul, MN 55107, United States   \n",
       "16      610 E 4th St, Duluth, MN 55805, United States   \n",
       "17    4426 Grand Ave, Duluth, MN 55807, United States   \n",
       "18     905 Broadway, Wheaton, MN 56296, United States   \n",
       "19           1510 US-2, Bena, MN 56626, United States   \n",
       "20      864 Rice St, St Paul, MN 55117, United States   \n",
       "21   104 Main St N, Winthrop, MN 55396, United States   \n",
       "22  4020 Woodland Ave, Duluth, MN 55803, United St...   \n",
       "23          604 Western Ave N, St Paul, MN 55103, USA   \n",
       "24  741 Edmund Ave W, St Paul, MN 55104, United St...   \n",
       "25  155 Hill Ave S, Middle River, MN 56737, United...   \n",
       "26        315 Main St, Tower, MN 55790, United States   \n",
       "27           201 US-53, Cook, MN 55723, United States   \n",
       "28  31 Central Blvd STE 100, Babbitt, MN 55706, Un...   \n",
       "29    303 E Sheridan St, Ely, MN 55731, United States   \n",
       "30  4, Shopping Center Rd, Silver Bay, MN 55614, U...   \n",
       "\n",
       "                               match_name  \n",
       "0                     Walmart Supercenter  \n",
       "1                     Walmart Supercenter  \n",
       "2                     Walmart Supercenter  \n",
       "3                     Walmart Supercenter  \n",
       "4                        Walmart Pharmacy  \n",
       "5                     Walmart Supercenter  \n",
       "6                     Walmart Supercenter  \n",
       "7                     Walmart Supercenter  \n",
       "8                     Walmart Supercenter  \n",
       "9                     Walmart Supercenter  \n",
       "10                    Walmart Supercenter  \n",
       "11                    Walmart Supercenter  \n",
       "12                            Webber Mart  \n",
       "13                  Wedge Community Co-op  \n",
       "14                      Wells Marketplace  \n",
       "15                      West Side Grocery  \n",
       "16                      Whole Foods Co-op  \n",
       "17              Whole Foods Co-op Denfeld  \n",
       "18                              SUPERVALU  \n",
       "19  Big Winnie Store RV Park & Campground  \n",
       "20                       Winnipeg Grocery  \n",
       "21                   Winthrop Market, LLC  \n",
       "22             Woodland Marketplace Foods  \n",
       "23                      604 Western Ave N  \n",
       "24                      Yasem Food Market  \n",
       "25              Young's General Store Inc  \n",
       "26                      Zup's Food Market  \n",
       "27              Zup's Food Market of Cook  \n",
       "28                      Zup's Food Market  \n",
       "29                      Zup's Food Market  \n",
       "30                      Zup's Food Market  "
      ]
     },
     "execution_count": 68,
     "metadata": {},
     "output_type": "execute_result"
    }
   ],
   "source": [
    "# Create a dataframe \"df7\" to\n",
    "mat_data_dict = {'match_address': mat_addr_list, 'match_name': mat_name_list}\n",
    "df7 = pd.DataFrame(mat_data_dict, columns=match_cols)\n",
    "df7"
   ]
  },
  {
   "cell_type": "markdown",
   "metadata": {},
   "source": [
    "Now we have three dataframes \"df3\", \"df6\", and \"df7\" in the same row indices. The first stores grocery stores and their addresses, the second stores their opening hours, and the third stores the matching information. "
   ]
  },
  {
   "cell_type": "code",
   "execution_count": 69,
   "metadata": {},
   "outputs": [],
   "source": [
    "# Concatenate the two dataframes along the column\n",
    "df8 = pd.concat([df3, df6, df7], axis=1)"
   ]
  },
  {
   "cell_type": "code",
   "execution_count": 70,
   "metadata": {},
   "outputs": [],
   "source": [
    "# Save data into a csv file\n",
    "df8.to_csv(\"data_samples.csv\")"
   ]
  }
 ],
 "metadata": {
  "kernelspec": {
   "display_name": "Python 3",
   "language": "python",
   "name": "python3"
  },
  "language_info": {
   "codemirror_mode": {
    "name": "ipython",
    "version": 3
   },
   "file_extension": ".py",
   "mimetype": "text/x-python",
   "name": "python",
   "nbconvert_exporter": "python",
   "pygments_lexer": "ipython3",
   "version": "3.7.4"
  }
 },
 "nbformat": 4,
 "nbformat_minor": 2
}
